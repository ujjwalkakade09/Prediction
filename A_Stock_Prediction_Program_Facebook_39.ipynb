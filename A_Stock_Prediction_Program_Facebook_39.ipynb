{
  "nbformat": 4,
  "nbformat_minor": 0,
  "metadata": {
    "colab": {
      "name": "A Stock Prediction Program Facebook 39.ipynb",
      "provenance": [],
      "authorship_tag": "ABX9TyO1QHLXP//kx8DyzBk1RyXM",
      "include_colab_link": true
    },
    "kernelspec": {
      "name": "python3",
      "display_name": "Python 3"
    }
  },
  "cells": [
    {
      "cell_type": "markdown",
      "metadata": {
        "id": "view-in-github",
        "colab_type": "text"
      },
      "source": [
        "<a href=\"https://colab.research.google.com/github/ujjwalkakade09/Prediction/blob/master/A_Stock_Prediction_Program_Facebook_39.ipynb\" target=\"_parent\"><img src=\"https://colab.research.google.com/assets/colab-badge.svg\" alt=\"Open In Colab\"/></a>"
      ]
    },
    {
      "cell_type": "code",
      "metadata": {
        "id": "6kpGZMt-bcuX",
        "colab_type": "code",
        "colab": {}
      },
      "source": [
        "# This Program is predecting Stock Prices Using Machine Learning Models\n",
        "\n",
        "# Install The Dependendencies reqired\n",
        "\n",
        "import quandl\n",
        "import numpy as np\n",
        "from sklearn.linear_model import LinearRegression #installing for linear model in which we are using LinearRegression\n",
        "from sklearn.svm import SVR #Installing Support Vector Machine in which we are using Support Vector Regression\n",
        "from sklearn.model_selection import train_test_split # Installing Model Selection to split our Data in Train and Test"
      ],
      "execution_count": 0,
      "outputs": []
    },
    {
      "cell_type": "code",
      "metadata": {
        "id": "ziPNbc-Mhm4G",
        "colab_type": "code",
        "colab": {
          "base_uri": "https://localhost:8080/",
          "height": 655
        },
        "outputId": "3aebb509-8a96-4655-e773-3f04ce71db19"
      },
      "source": [
        "# Getting the Stock Data\n",
        "\n",
        "df = quandl.get(\"WIKI/FB\") #Using quando get function we are getting data from Facebook\n",
        "\n",
        "# Showing the Data to have Look\n",
        "print(df.info()) #to get the information about the Data\n",
        "print(df.head()) #to Have look on first five coloms of the data\n",
        "print(df.tail()) # to have look on the last five coloms of the data"
      ],
      "execution_count": 53,
      "outputs": [
        {
          "output_type": "stream",
          "text": [
            "<class 'pandas.core.frame.DataFrame'>\n",
            "DatetimeIndex: 1472 entries, 2012-05-18 to 2018-03-27\n",
            "Data columns (total 12 columns):\n",
            " #   Column       Non-Null Count  Dtype  \n",
            "---  ------       --------------  -----  \n",
            " 0   Open         1472 non-null   float64\n",
            " 1   High         1472 non-null   float64\n",
            " 2   Low          1472 non-null   float64\n",
            " 3   Close        1472 non-null   float64\n",
            " 4   Volume       1472 non-null   float64\n",
            " 5   Ex-Dividend  1472 non-null   float64\n",
            " 6   Split Ratio  1472 non-null   float64\n",
            " 7   Adj. Open    1472 non-null   float64\n",
            " 8   Adj. High    1472 non-null   float64\n",
            " 9   Adj. Low     1472 non-null   float64\n",
            " 10  Adj. Close   1472 non-null   float64\n",
            " 11  Adj. Volume  1472 non-null   float64\n",
            "dtypes: float64(12)\n",
            "memory usage: 149.5 KB\n",
            "None\n",
            "             Open   High    Low  ...  Adj. Low  Adj. Close  Adj. Volume\n",
            "Date                             ...                                   \n",
            "2012-05-18  42.05  45.00  38.00  ...     38.00     38.2318  573576400.0\n",
            "2012-05-21  36.53  36.66  33.00  ...     33.00     34.0300  168192700.0\n",
            "2012-05-22  32.61  33.59  30.94  ...     30.94     31.0000  101786600.0\n",
            "2012-05-23  31.37  32.50  31.36  ...     31.36     32.0000   73600000.0\n",
            "2012-05-24  32.95  33.21  31.77  ...     31.77     33.0300   50237200.0\n",
            "\n",
            "[5 rows x 12 columns]\n",
            "              Open    High     Low  ...  Adj. Low  Adj. Close  Adj. Volume\n",
            "Date                                ...                                   \n",
            "2018-03-21  164.80  173.40  163.30  ...    163.30      169.39  105350867.0\n",
            "2018-03-22  166.13  170.27  163.72  ...    163.72      164.89   73389988.0\n",
            "2018-03-23  165.44  167.10  159.02  ...    159.02      159.39   52306891.0\n",
            "2018-03-26  160.82  161.10  149.02  ...    149.02      160.06  125438294.0\n",
            "2018-03-27  156.31  162.85  150.75  ...    150.75      152.19   76787884.0\n",
            "\n",
            "[5 rows x 12 columns]\n"
          ],
          "name": "stdout"
        }
      ]
    },
    {
      "cell_type": "code",
      "metadata": {
        "id": "t-FqKxCBjt_C",
        "colab_type": "code",
        "colab": {
          "base_uri": "https://localhost:8080/",
          "height": 134
        },
        "outputId": "4d7c33a3-a546-447b-e77a-0f15ac5e075d"
      },
      "source": [
        "# We want the Adjusted Close Price to predict\n",
        "\n",
        "df = df[['Adj. Close']]  #for showing the Adjusted Close Data #it is independent variable\n",
        "print(df.head())"
      ],
      "execution_count": 54,
      "outputs": [
        {
          "output_type": "stream",
          "text": [
            "            Adj. Close\n",
            "Date                  \n",
            "2012-05-18     38.2318\n",
            "2012-05-21     34.0300\n",
            "2012-05-22     31.0000\n",
            "2012-05-23     32.0000\n",
            "2012-05-24     33.0300\n"
          ],
          "name": "stdout"
        }
      ]
    },
    {
      "cell_type": "code",
      "metadata": {
        "id": "WNDhn2cGmR18",
        "colab_type": "code",
        "colab": {}
      },
      "source": [
        "# Creating variable to predicting the future value of stock price\n",
        "\n",
        "#forecast_out = 1 # Here we are predicting 1 day\n",
        "\n",
        "#The variable for predicting 'n' days out into the future\n",
        "\n",
        "#Creating the another colum (the target or dependent variable) shifted 'n' units up\n",
        "\n",
        "#df['Prediction'] = df[['Adj. Close']].shift(-1) # we will get the Adj. Close and then shift up to 1 rows in data will appear in prediction colume\n",
        "\n",
        "#Print the new data set\n",
        "#print(df.head())\n",
        "\n",
        "#we will get the last last day as null as we shifted the data by 1\n",
        "\n",
        "#print(df.tail())"
      ],
      "execution_count": 0,
      "outputs": []
    },
    {
      "cell_type": "code",
      "metadata": {
        "id": "QvK9xSmksFIP",
        "colab_type": "code",
        "colab": {
          "base_uri": "https://localhost:8080/",
          "height": 252
        },
        "outputId": "2afaf5b3-2399-47a4-a601-cbf19d80e281"
      },
      "source": [
        "# Creating variable to predicting the future value of stock price\n",
        "\n",
        "forecast_out = 30 # Here we are predicting 30 day thats predicting number of days\n",
        "\n",
        "#The variable for predicting '30' days out into the future\n",
        "\n",
        "#Creating the another colum (the target or dependent variable) shifted 'n' units up\n",
        "\n",
        "df['Prediction'] = df[['Adj. Close']].shift(- forecast_out) # we will get the Adj. Close and then shift up to 30 rows in data will appear in prediction colume\n",
        "\n",
        "#Print the new data set\n",
        "print(df.head())\n",
        "\n",
        "#we will get the last last day as null as we shifted the data by 30\n",
        "\n",
        "print(df.tail())"
      ],
      "execution_count": 55,
      "outputs": [
        {
          "output_type": "stream",
          "text": [
            "            Adj. Close  Prediction\n",
            "Date                              \n",
            "2012-05-18     38.2318      30.771\n",
            "2012-05-21     34.0300      31.200\n",
            "2012-05-22     31.0000      31.470\n",
            "2012-05-23     32.0000      31.730\n",
            "2012-05-24     33.0300      32.170\n",
            "            Adj. Close  Prediction\n",
            "Date                              \n",
            "2018-03-21      169.39         NaN\n",
            "2018-03-22      164.89         NaN\n",
            "2018-03-23      159.39         NaN\n",
            "2018-03-26      160.06         NaN\n",
            "2018-03-27      152.19         NaN\n"
          ],
          "name": "stdout"
        }
      ]
    },
    {
      "cell_type": "code",
      "metadata": {
        "id": "-Q5LftLjuWkT",
        "colab_type": "code",
        "colab": {
          "base_uri": "https://localhost:8080/",
          "height": 134
        },
        "outputId": "251ca0b5-83af-4173-832f-bb6fbda17de6"
      },
      "source": [
        "##### Creating the independent data set (x) #####\n",
        "\n",
        "#Convert the dataframe to a numpy array\n",
        "\n",
        "x = np.array(df.drop(['Prediction'],1)) #It will convert our data into array we are going to drop the colum Prediction Colum to use the indpendet variable\n",
        "\n",
        "#we should remove the last 30 days value in rows that the number of 'n'days that is forecast_out\n",
        "x = x[:-forecast_out] # X is now numpy array we will get last 30 days out\n",
        "print(x)"
      ],
      "execution_count": 61,
      "outputs": [
        {
          "output_type": "stream",
          "text": [
            "[[ 38.2318]\n",
            " [ 34.03  ]\n",
            " [ 31.    ]\n",
            " ...\n",
            " [171.5499]\n",
            " [175.98  ]\n",
            " [176.41  ]]\n"
          ],
          "name": "stdout"
        }
      ]
    },
    {
      "cell_type": "code",
      "metadata": {
        "id": "gg3BlcMfztGu",
        "colab_type": "code",
        "colab": {}
      },
      "source": [
        "#### Creating the dependent data set"
      ],
      "execution_count": 0,
      "outputs": []
    }
  ]
}