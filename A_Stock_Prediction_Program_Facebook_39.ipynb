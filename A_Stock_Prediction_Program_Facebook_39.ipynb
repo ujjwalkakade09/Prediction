{
  "nbformat": 4,
  "nbformat_minor": 0,
  "metadata": {
    "colab": {
      "name": "A Stock Prediction Program Facebook 39.ipynb",
      "provenance": [],
      "collapsed_sections": [],
      "authorship_tag": "ABX9TyOST0+2akQNIYa+biIdOaSk",
      "include_colab_link": true
    },
    "kernelspec": {
      "name": "python3",
      "display_name": "Python 3"
    }
  },
  "cells": [
    {
      "cell_type": "markdown",
      "metadata": {
        "id": "view-in-github",
        "colab_type": "text"
      },
      "source": [
        "<a href=\"https://colab.research.google.com/github/ujjwalkakade09/Prediction/blob/master/A_Stock_Prediction_Program_Facebook_39.ipynb\" target=\"_parent\"><img src=\"https://colab.research.google.com/assets/colab-badge.svg\" alt=\"Open In Colab\"/></a>"
      ]
    },
    {
      "cell_type": "code",
      "metadata": {
        "id": "XfI5VJv9nxmG",
        "colab_type": "code",
        "colab": {
          "base_uri": "https://localhost:8080/",
          "height": 255
        },
        "outputId": "8fd5973c-7239-4524-d4d3-e47c01f6abdd"
      },
      "source": [
        "pip install Quandl"
      ],
      "execution_count": 17,
      "outputs": [
        {
          "output_type": "stream",
          "text": [
            "Requirement already satisfied: Quandl in /usr/local/lib/python3.6/dist-packages (3.5.0)\n",
            "Requirement already satisfied: numpy>=1.8 in /usr/local/lib/python3.6/dist-packages (from Quandl) (1.18.4)\n",
            "Requirement already satisfied: python-dateutil in /usr/local/lib/python3.6/dist-packages (from Quandl) (2.8.1)\n",
            "Requirement already satisfied: six in /usr/local/lib/python3.6/dist-packages (from Quandl) (1.12.0)\n",
            "Requirement already satisfied: pandas>=0.14 in /usr/local/lib/python3.6/dist-packages (from Quandl) (1.0.3)\n",
            "Requirement already satisfied: more-itertools in /usr/local/lib/python3.6/dist-packages (from Quandl) (8.2.0)\n",
            "Requirement already satisfied: requests>=2.7.0 in /usr/local/lib/python3.6/dist-packages (from Quandl) (2.23.0)\n",
            "Requirement already satisfied: inflection>=0.3.1 in /usr/local/lib/python3.6/dist-packages (from Quandl) (0.4.0)\n",
            "Requirement already satisfied: pytz>=2017.2 in /usr/local/lib/python3.6/dist-packages (from pandas>=0.14->Quandl) (2018.9)\n",
            "Requirement already satisfied: certifi>=2017.4.17 in /usr/local/lib/python3.6/dist-packages (from requests>=2.7.0->Quandl) (2020.4.5.1)\n",
            "Requirement already satisfied: idna<3,>=2.5 in /usr/local/lib/python3.6/dist-packages (from requests>=2.7.0->Quandl) (2.9)\n",
            "Requirement already satisfied: chardet<4,>=3.0.2 in /usr/local/lib/python3.6/dist-packages (from requests>=2.7.0->Quandl) (3.0.4)\n",
            "Requirement already satisfied: urllib3!=1.25.0,!=1.25.1,<1.26,>=1.21.1 in /usr/local/lib/python3.6/dist-packages (from requests>=2.7.0->Quandl) (1.24.3)\n"
          ],
          "name": "stdout"
        }
      ]
    },
    {
      "cell_type": "code",
      "metadata": {
        "id": "6kpGZMt-bcuX",
        "colab_type": "code",
        "colab": {}
      },
      "source": [
        "# This Program is predecting Stock Prices Using Machine Learning Models.\n",
        "\n",
        "# Install The Dependendencies reqired.\n",
        "\n",
        "import quandl\n",
        "import numpy as np\n",
        "from sklearn.linear_model import LinearRegression #installing for linear model in which we are using LinearRegression.\n",
        "from sklearn.svm import SVR #Installing Support Vector Machine in which we are using Support Vector Regression.\n",
        "from sklearn.model_selection import train_test_split # Installing Model Selection to split our Data in Train and Test."
      ],
      "execution_count": 0,
      "outputs": []
    },
    {
      "cell_type": "code",
      "metadata": {
        "id": "ziPNbc-Mhm4G",
        "colab_type": "code",
        "colab": {}
      },
      "source": [
        "# Getting the Stock Data of the Facebook in this example.\n",
        "\n",
        "df = quandl.get(\"WIKI/FB\") #Using quando get function we are getting data from Facebook.\n",
        "\n",
        "# Showing the Data to have Look.\n",
        "print(df.info()) #to get the information about the Data.\n",
        "print(df.head()) #to Have look on first five coloms of the data.\n",
        "print(df.tail()) # to have look on the last five coloms of the data."
      ],
      "execution_count": 0,
      "outputs": []
    },
    {
      "cell_type": "code",
      "metadata": {
        "id": "t-FqKxCBjt_C",
        "colab_type": "code",
        "colab": {}
      },
      "source": [
        "# We want the Adjusted Close Price to predict.\n",
        "\n",
        "df = df[['Adj. Close']]  #for showing the Adjusted Close Data #it is independent variable.\n",
        "print(df.head())"
      ],
      "execution_count": 0,
      "outputs": []
    },
    {
      "cell_type": "code",
      "metadata": {
        "id": "WNDhn2cGmR18",
        "colab_type": "code",
        "colab": {}
      },
      "source": [
        "# Creating variable to predicting the future value of stock price.\n",
        "\n",
        "#forecast_out = 1 # Here we are predicting 1 day.\n",
        "\n",
        "#The variable for predicting 'n' days out into the future.\n",
        "\n",
        "#Creating the another colum (the target or dependent variable) shifted 'n' units up.\n",
        "\n",
        "#df['Prediction'] = df[['Adj. Close']].shift(-1) # we will get the Adj. Close and then shift up to 1 rows in data will appear in prediction colume.\n",
        "\n",
        "#Print the new data set.\n",
        "#print(df.head())\n",
        "\n",
        "#we will get the last last day as null as we shifted the data by 1.\n",
        "\n",
        "#print(df.tail())"
      ],
      "execution_count": 0,
      "outputs": []
    },
    {
      "cell_type": "code",
      "metadata": {
        "id": "QvK9xSmksFIP",
        "colab_type": "code",
        "colab": {}
      },
      "source": [
        "# Creating variable to predicting the future value of stock price.\n",
        "\n",
        "forecast_out = 30 # Here we are predicting 30 day thats predicting number of days.\n",
        "\n",
        "#The variable for predicting '30' days out into the future.\n",
        "\n",
        "#Creating the another colum (the target or dependent variable) shifted 'n' units up.\n",
        "\n",
        "df['Prediction'] = df[['Adj. Close']].shift(- forecast_out) # we will get the Adj. Close and then shift up to 30 rows in data will appear in prediction colume.\n",
        "\n",
        "# Print the new data set.\n",
        "print(df.head())\n",
        "\n",
        "# We will get the last last day as null as we shifted the data by 30.\n",
        "\n",
        "print(df.tail())"
      ],
      "execution_count": 0,
      "outputs": []
    },
    {
      "cell_type": "code",
      "metadata": {
        "id": "-Q5LftLjuWkT",
        "colab_type": "code",
        "colab": {}
      },
      "source": [
        "##### Creating the independent data set (x) #####\n",
        "\n",
        "#Convert the dataframe to a numpy array.\n",
        "\n",
        "x = np.array(df.drop(['Prediction'],1)) #It will convert our data into array we are going to drop the colum Prediction Colum to use the indpendet variable.\n",
        "\n",
        "#we should remove the last 30 days value in rows that the number of 'n'days that is forecast_out.\n",
        "x = x[:-forecast_out] # X is now numpy array we will get last 30 days out.\n",
        "print(x) #it is the list of list."
      ],
      "execution_count": 0,
      "outputs": []
    },
    {
      "cell_type": "code",
      "metadata": {
        "id": "gg3BlcMfztGu",
        "colab_type": "code",
        "colab": {}
      },
      "source": [
        "#### Creating the dependent data set (y) ####\n",
        "\n",
        "#Convert the dataframe to a numpy array (All of the values including the NaN's).\n",
        "y = np.array(df['Prediction']) # we dont need the Adj. Close colume.\n",
        "#we will get all values in the target colum exept the 30 days that last 'n' rows.\n",
        "y = y[:-forecast_out]\n",
        "print(y) # it is the list."
      ],
      "execution_count": 0,
      "outputs": []
    },
    {
      "cell_type": "code",
      "metadata": {
        "id": "HEWQ85kx3bkq",
        "colab_type": "code",
        "colab": {}
      },
      "source": [
        "# Split the data into 80% Traing data and 20% Testing data.\n",
        "\n",
        "x_train, x_test, y_train, y_test = train_test_split(x, y, test_size=0.2) #we can learn this from the sklearn doccumentation."
      ],
      "execution_count": 0,
      "outputs": []
    },
    {
      "cell_type": "code",
      "metadata": {
        "id": "POd1kSgI44NP",
        "colab_type": "code",
        "colab": {}
      },
      "source": [
        "# Creat and train the model The Support Vector Machine(Regressor).\n",
        "svr_rbf = SVR(kernel='rbf', C=1e3, gamma=0.1) #kernel is called rbf = radio basis kernel we are using and we are using parameter C and gamma.\n",
        "svr_rbf.fit(x_train, y_train)"
      ],
      "execution_count": 0,
      "outputs": []
    },
    {
      "cell_type": "code",
      "metadata": {
        "id": "CtQKyLUi8ISR",
        "colab_type": "code",
        "colab": {}
      },
      "source": [
        "# Test the model : Score return he coefficient of the determination R^2 of the prediction.\n",
        "# the best possible score is 1.0.\n",
        "svm_confidence = svr_rbf.score(x_test, y_test)\n",
        "print(\"svm confidence: \", svm_confidence)"
      ],
      "execution_count": 0,
      "outputs": []
    },
    {
      "cell_type": "code",
      "metadata": {
        "id": "KXgDBoRl9y13",
        "colab_type": "code",
        "colab": {}
      },
      "source": [
        "#create and train the Linear Regression model.\n",
        "lr = LinearRegression()\n",
        "\n",
        "#Train the LinearRegression model using fit.\n",
        "lr.fit(x_train, y_train)"
      ],
      "execution_count": 0,
      "outputs": []
    },
    {
      "cell_type": "code",
      "metadata": {
        "id": "FeUCxLjU_JUm",
        "colab_type": "code",
        "colab": {}
      },
      "source": [
        "# Test the model : Score return he coefficient of the determination R^2 of the prediction.\n",
        "# the best possible score is 1.0.\n",
        "lr_confidence = lr.score(x_test, y_test)\n",
        "print(\"lr confidence: \", lr_confidence)"
      ],
      "execution_count": 0,
      "outputs": []
    },
    {
      "cell_type": "code",
      "metadata": {
        "id": "Hgllhf9r_nlk",
        "colab_type": "code",
        "colab": {}
      },
      "source": [
        "# Set x_forecast equal to the 30 rows of the orignal data set from Adj. Close column.\n",
        "x_forecast = np.array(df.drop(['Prediction'],1)) [-forecast_out:] # we are crearing array for it and drop the prediction colum and we want last 30 rows from the all the columns in data set.\n",
        "print(x_forecast)"
      ],
      "execution_count": 0,
      "outputs": []
    },
    {
      "cell_type": "code",
      "metadata": {
        "id": "7iHa5-ZOBOF8",
        "colab_type": "code",
        "colab": {}
      },
      "source": [
        "# we will now print the prediction for LinearRegression model for the next 'n' days in now we are doing it for 30 days.\n",
        "lr_prediction = lr.predict(x_forecast)\n",
        "print(lr_prediction)"
      ],
      "execution_count": 0,
      "outputs": []
    },
    {
      "cell_type": "code",
      "metadata": {
        "id": "OVfVpDXOB_Nw",
        "colab_type": "code",
        "colab": {}
      },
      "source": [
        "# we will now print the prediction for Support Vector regressor model for the next 'n' days in now we are doing it for 30 days.\n",
        "svr_prediction = svr_rbf.predict(x_forecast)\n",
        "print(svr_prediction)"
      ],
      "execution_count": 0,
      "outputs": []
    }
  ]
}