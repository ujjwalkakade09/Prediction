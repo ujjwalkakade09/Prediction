{
  "nbformat": 4,
  "nbformat_minor": 0,
  "metadata": {
    "colab": {
      "name": "Stock Price Prediction Using RNN- LSTM 49.ipynb",
      "provenance": [],
      "authorship_tag": "ABX9TyO7BNLzdHeUf89L2JCNnG9R",
      "include_colab_link": true
    },
    "kernelspec": {
      "name": "python3",
      "display_name": "Python 3"
    }
  },
  "cells": [
    {
      "cell_type": "markdown",
      "metadata": {
        "id": "view-in-github",
        "colab_type": "text"
      },
      "source": [
        "<a href=\"https://colab.research.google.com/github/ujjwalkakade09/Prediction/blob/master/Stock_Price_Prediction_Using_RNN_LSTM_49.ipynb\" target=\"_parent\"><img src=\"https://colab.research.google.com/assets/colab-badge.svg\" alt=\"Open In Colab\"/></a>"
      ]
    },
    {
      "cell_type": "code",
      "metadata": {
        "id": "aC22GqhKS7yr",
        "colab_type": "code",
        "colab": {}
      },
      "source": [
        "#In this method we are using Artificial Recurrent Neural Network called Long short Term Memory (LSTM) to predict the closing stock price of a coporation called Apple Inc. using the past 60 days stock price and for that we are using the Keras models.\n"
      ],
      "execution_count": 0,
      "outputs": []
    },
    {
      "cell_type": "code",
      "metadata": {
        "id": "TAlQVS2UXU-i",
        "colab_type": "code",
        "colab": {
          "base_uri": "https://localhost:8080/",
          "height": 87
        },
        "outputId": "c346cc7c-6907-45e7-f28d-4771ce41ff63"
      },
      "source": [
        "# Import the libraries\n",
        "\n",
        "import math\n",
        "import pandas_datareader as web\n",
        "import numpy as np\n",
        "import pandas as pd\n",
        "from sklearn.preprocessing  import MinMaxScaler\n",
        "from keras.models import Sequential\n",
        "from keras.layers import Dense, LSTM\n",
        "import matplotlib.pyplot as plt\n",
        "plt.style.use('fivethirtyeight')"
      ],
      "execution_count": 1,
      "outputs": [
        {
          "output_type": "stream",
          "text": [
            "/usr/local/lib/python3.6/dist-packages/pandas_datareader/compat/__init__.py:7: FutureWarning: pandas.util.testing is deprecated. Use the functions in the public API at pandas.testing instead.\n",
            "  from pandas.util.testing import assert_frame_equal\n",
            "Using TensorFlow backend.\n"
          ],
          "name": "stderr"
        }
      ]
    },
    {
      "cell_type": "code",
      "metadata": {
        "id": "JAZelP0MZ_qp",
        "colab_type": "code",
        "colab": {
          "base_uri": "https://localhost:8080/",
          "height": 431
        },
        "outputId": "eac3c1e4-51c8-4f2a-fd92-5d3463cf704c"
      },
      "source": [
        "#Import the data set of Apple Inc. that are Stock quotes from the Yahoo Finance.\n",
        "\n",
        "df = web.DataReader('AAPL', data_source='yahoo', start='2012-01-02', end='2019-12-17')\n",
        "\n",
        "# show the data that have imported from Yahoo Finance.\n",
        "\n",
        "df\n"
      ],
      "execution_count": 13,
      "outputs": [
        {
          "output_type": "execute_result",
          "data": {
            "text/html": [
              "<div>\n",
              "<style scoped>\n",
              "    .dataframe tbody tr th:only-of-type {\n",
              "        vertical-align: middle;\n",
              "    }\n",
              "\n",
              "    .dataframe tbody tr th {\n",
              "        vertical-align: top;\n",
              "    }\n",
              "\n",
              "    .dataframe thead th {\n",
              "        text-align: right;\n",
              "    }\n",
              "</style>\n",
              "<table border=\"1\" class=\"dataframe\">\n",
              "  <thead>\n",
              "    <tr style=\"text-align: right;\">\n",
              "      <th></th>\n",
              "      <th>High</th>\n",
              "      <th>Low</th>\n",
              "      <th>Open</th>\n",
              "      <th>Close</th>\n",
              "      <th>Volume</th>\n",
              "      <th>Adj Close</th>\n",
              "    </tr>\n",
              "    <tr>\n",
              "      <th>Date</th>\n",
              "      <th></th>\n",
              "      <th></th>\n",
              "      <th></th>\n",
              "      <th></th>\n",
              "      <th></th>\n",
              "      <th></th>\n",
              "    </tr>\n",
              "  </thead>\n",
              "  <tbody>\n",
              "    <tr>\n",
              "      <th>2012-01-03</th>\n",
              "      <td>58.928570</td>\n",
              "      <td>58.428570</td>\n",
              "      <td>58.485714</td>\n",
              "      <td>58.747143</td>\n",
              "      <td>75555200.0</td>\n",
              "      <td>50.857235</td>\n",
              "    </tr>\n",
              "    <tr>\n",
              "      <th>2012-01-04</th>\n",
              "      <td>59.240002</td>\n",
              "      <td>58.468571</td>\n",
              "      <td>58.571430</td>\n",
              "      <td>59.062859</td>\n",
              "      <td>65005500.0</td>\n",
              "      <td>51.130558</td>\n",
              "    </tr>\n",
              "    <tr>\n",
              "      <th>2012-01-05</th>\n",
              "      <td>59.792858</td>\n",
              "      <td>58.952858</td>\n",
              "      <td>59.278572</td>\n",
              "      <td>59.718571</td>\n",
              "      <td>67817400.0</td>\n",
              "      <td>51.698215</td>\n",
              "    </tr>\n",
              "    <tr>\n",
              "      <th>2012-01-06</th>\n",
              "      <td>60.392857</td>\n",
              "      <td>59.888573</td>\n",
              "      <td>59.967144</td>\n",
              "      <td>60.342857</td>\n",
              "      <td>79573200.0</td>\n",
              "      <td>52.238651</td>\n",
              "    </tr>\n",
              "    <tr>\n",
              "      <th>2012-01-09</th>\n",
              "      <td>61.107143</td>\n",
              "      <td>60.192856</td>\n",
              "      <td>60.785713</td>\n",
              "      <td>60.247143</td>\n",
              "      <td>98506100.0</td>\n",
              "      <td>52.155792</td>\n",
              "    </tr>\n",
              "    <tr>\n",
              "      <th>...</th>\n",
              "      <td>...</td>\n",
              "      <td>...</td>\n",
              "      <td>...</td>\n",
              "      <td>...</td>\n",
              "      <td>...</td>\n",
              "      <td>...</td>\n",
              "    </tr>\n",
              "    <tr>\n",
              "      <th>2019-12-11</th>\n",
              "      <td>271.100006</td>\n",
              "      <td>268.500000</td>\n",
              "      <td>268.809998</td>\n",
              "      <td>270.769989</td>\n",
              "      <td>19689200.0</td>\n",
              "      <td>269.399658</td>\n",
              "    </tr>\n",
              "    <tr>\n",
              "      <th>2019-12-12</th>\n",
              "      <td>272.559998</td>\n",
              "      <td>267.320007</td>\n",
              "      <td>267.779999</td>\n",
              "      <td>271.459991</td>\n",
              "      <td>34327600.0</td>\n",
              "      <td>270.086151</td>\n",
              "    </tr>\n",
              "    <tr>\n",
              "      <th>2019-12-13</th>\n",
              "      <td>275.299988</td>\n",
              "      <td>270.929993</td>\n",
              "      <td>271.459991</td>\n",
              "      <td>275.149994</td>\n",
              "      <td>33396900.0</td>\n",
              "      <td>273.757477</td>\n",
              "    </tr>\n",
              "    <tr>\n",
              "      <th>2019-12-16</th>\n",
              "      <td>280.790009</td>\n",
              "      <td>276.980011</td>\n",
              "      <td>277.000000</td>\n",
              "      <td>279.859985</td>\n",
              "      <td>32046500.0</td>\n",
              "      <td>278.443604</td>\n",
              "    </tr>\n",
              "    <tr>\n",
              "      <th>2019-12-17</th>\n",
              "      <td>281.769989</td>\n",
              "      <td>278.799988</td>\n",
              "      <td>279.570007</td>\n",
              "      <td>280.410004</td>\n",
              "      <td>28539600.0</td>\n",
              "      <td>278.990875</td>\n",
              "    </tr>\n",
              "  </tbody>\n",
              "</table>\n",
              "<p>2003 rows × 6 columns</p>\n",
              "</div>"
            ],
            "text/plain": [
              "                  High         Low  ...      Volume   Adj Close\n",
              "Date                                ...                        \n",
              "2012-01-03   58.928570   58.428570  ...  75555200.0   50.857235\n",
              "2012-01-04   59.240002   58.468571  ...  65005500.0   51.130558\n",
              "2012-01-05   59.792858   58.952858  ...  67817400.0   51.698215\n",
              "2012-01-06   60.392857   59.888573  ...  79573200.0   52.238651\n",
              "2012-01-09   61.107143   60.192856  ...  98506100.0   52.155792\n",
              "...                ...         ...  ...         ...         ...\n",
              "2019-12-11  271.100006  268.500000  ...  19689200.0  269.399658\n",
              "2019-12-12  272.559998  267.320007  ...  34327600.0  270.086151\n",
              "2019-12-13  275.299988  270.929993  ...  33396900.0  273.757477\n",
              "2019-12-16  280.790009  276.980011  ...  32046500.0  278.443604\n",
              "2019-12-17  281.769989  278.799988  ...  28539600.0  278.990875\n",
              "\n",
              "[2003 rows x 6 columns]"
            ]
          },
          "metadata": {
            "tags": []
          },
          "execution_count": 13
        }
      ]
    },
    {
      "cell_type": "code",
      "metadata": {
        "id": "VGw62sYQgJ49",
        "colab_type": "code",
        "colab": {
          "base_uri": "https://localhost:8080/",
          "height": 34
        },
        "outputId": "1bdc3426-a047-4918-a8fc-d17730d93d3b"
      },
      "source": [
        "# Get the number of Rows and coloums in the data set.\n",
        "\n",
        "\n",
        "df.shape"
      ],
      "execution_count": 15,
      "outputs": [
        {
          "output_type": "execute_result",
          "data": {
            "text/plain": [
              "(2003, 6)"
            ]
          },
          "metadata": {
            "tags": []
          },
          "execution_count": 15
        }
      ]
    },
    {
      "cell_type": "code",
      "metadata": {
        "id": "hA_qWGqhfqz4",
        "colab_type": "code",
        "colab": {
          "base_uri": "https://localhost:8080/",
          "height": 252
        },
        "outputId": "973274d1-c321-413d-e666-0606e7cbd5ab"
      },
      "source": [
        "# Printing the info about the data.\n",
        "\n",
        "print(df.info())"
      ],
      "execution_count": 16,
      "outputs": [
        {
          "output_type": "stream",
          "text": [
            "<class 'pandas.core.frame.DataFrame'>\n",
            "DatetimeIndex: 2003 entries, 2012-01-03 to 2019-12-17\n",
            "Data columns (total 6 columns):\n",
            " #   Column     Non-Null Count  Dtype  \n",
            "---  ------     --------------  -----  \n",
            " 0   High       2003 non-null   float64\n",
            " 1   Low        2003 non-null   float64\n",
            " 2   Open       2003 non-null   float64\n",
            " 3   Close      2003 non-null   float64\n",
            " 4   Volume     2003 non-null   float64\n",
            " 5   Adj Close  2003 non-null   float64\n",
            "dtypes: float64(6)\n",
            "memory usage: 109.5 KB\n",
            "None\n"
          ],
          "name": "stdout"
        }
      ]
    },
    {
      "cell_type": "code",
      "metadata": {
        "id": "UA-AuaXcfvdF",
        "colab_type": "code",
        "colab": {
          "base_uri": "https://localhost:8080/",
          "height": 322
        },
        "outputId": "5b0b71b7-dcb9-486e-cfe2-338c0fa50171"
      },
      "source": [
        "# Visualize the closing price hinstory on the graph.\n",
        "plt.figure(figsize=(16,8))\n",
        "plt.title('Close Price History', color='Green', fontsize=20)\n",
        "plt.plot(df['Close'])\n",
        "plt.xlabel('Date' , color='Green', fontsize=20)\n",
        "plt.ylabel('Close Price USD ($)', color='Green', fontsize=20)\n",
        "plt.show()"
      ],
      "execution_count": 22,
      "outputs": [
        {
          "output_type": "display_data",
          "data": {
            "image/png": "[encoded data removed]",
            "text/plain": [
              "<Figure size 1152x576 with 1 Axes>"
            ]
          },
          "metadata": {
            "tags": [],
            "needs_background": "light"
          }
        }
      ]
    },
    {
      "cell_type": "code",
      "metadata": {
        "id": "PG4Mo2whkIH9",
        "colab_type": "code",
        "colab": {
          "base_uri": "https://localhost:8080/",
          "height": 34
        },
        "outputId": "9805fa50-65a8-4e09-ea3d-6c45e30783c2"
      },
      "source": [
        "# Now we are creating new data frame with only \"Close\" Column.\n",
        "\n",
        "data = df.filter(['Close'])\n",
        "\n",
        "# We will convert that dataframe to a numpy array.\n",
        "\n",
        "dataset = data.values\n",
        "\n",
        "# In this we will get the number of rows o train the model on.\n",
        "\n",
        "training_data_len = math.ceil( len(dataset)* .8 )\n",
        "\n",
        "training_data_len"
      ],
      "execution_count": 23,
      "outputs": [
        {
          "output_type": "execute_result",
          "data": {
            "text/plain": [
              "1603"
            ]
          },
          "metadata": {
            "tags": []
          },
          "execution_count": 23
        }
      ]
    },
    {
      "cell_type": "code",
      "metadata": {
        "id": "-eUAS3MUlhoz",
        "colab_type": "code",
        "colab": {
          "base_uri": "https://localhost:8080/",
          "height": 134
        },
        "outputId": "448d7379-6259-48c2-8a43-3b637e399d58"
      },
      "source": [
        "# Now we have the trained the data after that now we will scale the data to normalization, transformation and preprocessing on input data that helps the model.\n",
        "\n",
        "scaler = MinMaxScaler(feature_range=(0,1)) # we are sclaing the dataset in range 0 and 1.\n",
        "\n",
        "scaled_data = scaler.fit_transform(dataset) # this will hold the dataset which scaled and will compute data will transform min & max in the value 0 & 1.\n",
        "\n",
        "scaled_data"
      ],
      "execution_count": 29,
      "outputs": [
        {
          "output_type": "execute_result",
          "data": {
            "text/plain": [
              "array([[0.01316509],\n",
              "       [0.01457064],\n",
              "       [0.01748985],\n",
              "       ...,\n",
              "       [0.97658263],\n",
              "       [0.99755134],\n",
              "       [1.        ]])"
            ]
          },
          "metadata": {
            "tags": []
          },
          "execution_count": 29
        }
      ]
    },
    {
      "cell_type": "code",
      "metadata": {
        "id": "cXlwa-dvqEvG",
        "colab_type": "code",
        "colab": {
          "base_uri": "https://localhost:8080/",
          "height": 692
        },
        "outputId": "3256dc40-89bb-4655-95c2-f04b6d2019df"
      },
      "source": [
        "# We will createthe training data set\n",
        "\n",
        "# for that we will create variable the scaled training data set\n",
        "\n",
        "train_data = scaled_data[0:training_data_len , :] # In this we are providing lenght if the training data and : will give the all of the column.\n",
        "\n",
        "# Split the data into x_train and y_train data sets.\n",
        "\n",
        "x_train = [] # This is the independent training variable or features.\n",
        "y_train = [] # This is the dependent variable or target variable. \n",
        "\n",
        "for i in range(60, len(train_data)):\n",
        "  x_train.append(train_data[i-60:i, 0]) # Here we are going to aooend from the i to 60. not includng the first value.\n",
        "  y_train.append(train_data[i, 0])  # it contains first 60 values at position i and column position 0.\n",
        "  if i<= 61: # if we change it with 61st it will give the x_ train data set in array twice for first 60 days and in second pass it will give next 60 days value.\n",
        "    print(x_train) # It contains the last 60 values.\n",
        "    print(y_train) # It contains the 61st value that we want our module to predict.\n",
        "    print()\n",
        "\n",
        "# In this second array it will give the 2 arrays in the x_train data with first pass throw and second array in second pass throw.\n",
        "# The first value in the second pass throw array is the same number as second value in the first value.\n",
        "# In the second pass throw the ending value is the 61st value is same as first( previous) pass throw.\n",
        "\n",
        "# Now we will have y_train data set with two values that are in bottom.\n",
        "# and we have the x_train data set in the second last values that are arrays. \n",
        "\n"
      ],
      "execution_count": 38,
      "outputs": [
        {
          "output_type": "stream",
          "text": [
            "[array([0.01316509, 0.01457064, 0.01748985, 0.02026915, 0.01984303,\n",
            "       0.02080338, 0.02036454, 0.01962679, 0.01862193, 0.02173194,\n",
            "       0.02453668, 0.02367172, 0.01893356, 0.02345548, 0.01900352,\n",
            "       0.03569838, 0.03440731, 0.0360927 , 0.03973694, 0.04194384,\n",
            "       0.0417594 , 0.0410789 , 0.04397903, 0.04670744, 0.04979839,\n",
            "       0.05479095, 0.0652785 , 0.06543749, 0.07127594, 0.07563885,\n",
            "       0.06814046, 0.07102789, 0.07097066, 0.07906688, 0.07791571,\n",
            "       0.08004628, 0.08387497, 0.08600558, 0.09214292, 0.09661397,\n",
            "       0.09790501, 0.09835659, 0.09071194, 0.08886753, 0.08914103,\n",
            "       0.09632775, 0.09835024, 0.10269405, 0.11293358, 0.12659476,\n",
            "       0.12403805, 0.1240444 , 0.13392141, 0.13701233, 0.13481179,\n",
            "       0.13280207, 0.13070964, 0.13766105, 0.14243103, 0.14442805])]\n",
            "[0.13949272033425864]\n",
            "\n",
            "[array([0.01316509, 0.01457064, 0.01748985, 0.02026915, 0.01984303,\n",
            "       0.02080338, 0.02036454, 0.01962679, 0.01862193, 0.02173194,\n",
            "       0.02453668, 0.02367172, 0.01893356, 0.02345548, 0.01900352,\n",
            "       0.03569838, 0.03440731, 0.0360927 , 0.03973694, 0.04194384,\n",
            "       0.0417594 , 0.0410789 , 0.04397903, 0.04670744, 0.04979839,\n",
            "       0.05479095, 0.0652785 , 0.06543749, 0.07127594, 0.07563885,\n",
            "       0.06814046, 0.07102789, 0.07097066, 0.07906688, 0.07791571,\n",
            "       0.08004628, 0.08387497, 0.08600558, 0.09214292, 0.09661397,\n",
            "       0.09790501, 0.09835659, 0.09071194, 0.08886753, 0.08914103,\n",
            "       0.09632775, 0.09835024, 0.10269405, 0.11293358, 0.12659476,\n",
            "       0.12403805, 0.1240444 , 0.13392141, 0.13701233, 0.13481179,\n",
            "       0.13280207, 0.13070964, 0.13766105, 0.14243103, 0.14442805]), array([0.01457064, 0.01748985, 0.02026915, 0.01984303, 0.02080338,\n",
            "       0.02036454, 0.01962679, 0.01862193, 0.02173194, 0.02453668,\n",
            "       0.02367172, 0.01893356, 0.02345548, 0.01900352, 0.03569838,\n",
            "       0.03440731, 0.0360927 , 0.03973694, 0.04194384, 0.0417594 ,\n",
            "       0.0410789 , 0.04397903, 0.04670744, 0.04979839, 0.05479095,\n",
            "       0.0652785 , 0.06543749, 0.07127594, 0.07563885, 0.06814046,\n",
            "       0.07102789, 0.07097066, 0.07906688, 0.07791571, 0.08004628,\n",
            "       0.08387497, 0.08600558, 0.09214292, 0.09661397, 0.09790501,\n",
            "       0.09835659, 0.09071194, 0.08886753, 0.08914103, 0.09632775,\n",
            "       0.09835024, 0.10269405, 0.11293358, 0.12659476, 0.12403805,\n",
            "       0.1240444 , 0.13392141, 0.13701233, 0.13481179, 0.13280207,\n",
            "       0.13070964, 0.13766105, 0.14243103, 0.14442805, 0.13949272])]\n",
            "[0.13949272033425864, 0.13293562570222134]\n",
            "\n"
          ],
          "name": "stdout"
        }
      ]
    },
    {
      "cell_type": "code",
      "metadata": {
        "id": "tl6jaI1czd-a",
        "colab_type": "code",
        "colab": {}
      },
      "source": [
        "# New we will convert the x_train and y_train data set to numpy arrays so that we can use it to train the LSTM model.\n",
        "\n",
        "x_train, y_train = np.array(x_train), np.array(y_train)"
      ],
      "execution_count": 0,
      "outputs": []
    },
    {
      "cell_type": "code",
      "metadata": {
        "id": "MsijNxDJ0YhS",
        "colab_type": "code",
        "colab": {
          "base_uri": "https://localhost:8080/",
          "height": 34
        },
        "outputId": "cafd0d75-945f-4158-e28e-4ce544371beb"
      },
      "source": [
        "# we will Reshape the data because the LSTM network will ecxpect input to be 3 Dimentional in the form of number of samples, number of timestapes and number of featurs, as our data set is in 2 Dimentional.\n",
        "\n",
        "# x_train = np.reshape(x_train,(1543, 60, 1) ) #number of samples is equal to number of rows we have that is 1543, number of timestapes is 60 and number of featurs is 1 that is closing price.\n",
        "\n",
        "x_train = np.reshape(x_train,(x_train.shape[0], x_train.shape[1], 1) ) #In this x_train.shape[0] is number of rows, x_train.shape[1] is the number of column.\n",
        "\n",
        "x_train.shape"
      ],
      "execution_count": 43,
      "outputs": [
        {
          "output_type": "execute_result",
          "data": {
            "text/plain": [
              "(1543, 60, 1)"
            ]
          },
          "metadata": {
            "tags": []
          },
          "execution_count": 43
        }
      ]
    },
    {
      "cell_type": "code",
      "metadata": {
        "id": "iDfoXCbL3Kx2",
        "colab_type": "code",
        "colab": {}
      },
      "source": [
        "# We will build the LSTM model\n",
        "\n",
        "model = Sequential() # we will create variable which have value Sequantial.\n",
        "model.add(LSTM(50, return_sequences=True, input_shape= (x_train.shape[1], 1))) # In this we are adding layers to our model LSTM layer and we are ging it 50 neurons and giving return sequesnce is True because we are going to use another LSTM layer, as it is first layer we will give input shape so it is number of timesteps which is 60 in this case so we write it is x_train.shape[1].\n",
        "model.add(LSTM(50, return_sequences=False)) # In this we will add Second LSTM layer in this we also have 50 neurons this time return sequence will be false because we will not enclude more layers in our model.\n",
        "model.add(Dense(25)) # In this we will add Dence layer in this we will add 25 neurons.\n",
        "model.add(Dense(1)) # In this last year we will just add 1 layer"
      ],
      "execution_count": 0,
      "outputs": []
    },
    {
      "cell_type": "code",
      "metadata": {
        "id": "3ihMOSR67Mn8",
        "colab_type": "code",
        "colab": {}
      },
      "source": [
        "# Now we will Compile the model.\n",
        "model.compile(optimizer= 'adam', loss='mean_squared_error') #in this we are giving our model adam optimizer while compiling and we are giving our model loss function.\n",
        "\n",
        "# The Optimizer is used improve the point loss function, and loss function is the how the model did on training."
      ],
      "execution_count": 0,
      "outputs": []
    },
    {
      "cell_type": "code",
      "metadata": {
        "id": "N7Nq1deNDtz3",
        "colab_type": "code",
        "colab": {
          "base_uri": "https://localhost:8080/",
          "height": 67
        },
        "outputId": "e38a02a5-70ea-4caa-989a-14dad0fe3060"
      },
      "source": [
        "# Now we will train our model\n",
        "\n",
        "model.fit(x_train, y_train, batch_size=1, epochs=1) #fit is another name for training data set which is on our input data set.\n",
        "\n",
        "# In this batch_size is the total number of the training examples present in single batch. Number of epoch is number of iterations when entire data set are passed foreword and backword to neural network."
      ],
      "execution_count": 71,
      "outputs": [
        {
          "output_type": "stream",
          "text": [
            "Epoch 1/1\n",
            "1543/1543 [==============================] - 60s 39ms/step - loss: 3.3540e-04\n"
          ],
          "name": "stdout"
        },
        {
          "output_type": "execute_result",
          "data": {
            "text/plain": [
              "<keras.callbacks.callbacks.History at 0x7f6b66af52e8>"
            ]
          },
          "metadata": {
            "tags": []
          },
          "execution_count": 71
        }
      ]
    },
    {
      "cell_type": "code",
      "metadata": {
        "id": "rqBTVROFFx9p",
        "colab_type": "code",
        "colab": {}
      },
      "source": [
        "# Now we will creat testing dataset, for that we created new array containing values from index 1543 to 2003, This is kind of testing data set.\n",
        "\n",
        "\n",
        "test_data = scaled_data[training_data_len - 60: , :] # we will store the scaled_data in test_data and it contains data from index that is training_data_len - number of days that 60 in this example to 2003 2hich is end of our data set we represent it as ':' (all of the column).\n",
        "\n",
        "\n",
        "# we will create the data set x_test and y_test\n",
        "\n",
        "x_test = []     # It contains past 60 values.\n",
        "y_test = dataset[training_data_len:, : ] # it is all of the values that we want our model to predict for the rest of the data. These are the actual text values.\n",
        "for i in range(60, len(test_data)): \n",
        "  x_test.append(test_data[i-60:i, 0]) # we are going to append the test dataset from position i-60.\n"
      ],
      "execution_count": 0,
      "outputs": []
    },
    {
      "cell_type": "code",
      "metadata": {
        "id": "ZDekOLSpJXRg",
        "colab_type": "code",
        "colab": {}
      },
      "source": [
        "# We will convert the data into a numpy array.\n",
        "\n",
        "x_test = np.array(x_test) # we are converting test values in numpy array so that we can use it in the LSTM model."
      ],
      "execution_count": 0,
      "outputs": []
    },
    {
      "cell_type": "code",
      "metadata": {
        "id": "yANv9bpHJ6jB",
        "colab_type": "code",
        "colab": {}
      },
      "source": [
        "#Reshape the data\n",
        "x_test = np.reshape(x_test, (x_test.shape[0] , x_test.shape[1] , 1)) #we are reshaping the test model because our data is 2 dimentional and LSTM model expects 3 Dimentional values.\n",
        "\n",
        "# we have x_test.shape[0] as number of rows that is number of samples we have. \n",
        "# we have x_test.shape[1] as number of column which is number of timesteps .\n",
        "# The last number 1 is number of features that we have which just the close price."
      ],
      "execution_count": 0,
      "outputs": []
    },
    {
      "cell_type": "code",
      "metadata": {
        "id": "G30tMNdDQw-Z",
        "colab_type": "code",
        "colab": {}
      },
      "source": [
        "# We will get the models predicted price values and this is for the x_test data set.\n",
        "\n",
        "predictions = model.predict(x_test)  # we create the variable called Predictions  in which we will get the exact same values as y_test once we inverse transform the data.\n",
        "\n",
        "predictions = scaler.inverse_transform(predictions) #In this we are unscaling the values as we want prediction values exact same as y_test data. We are getting these predictions based on the x_test datasets."
      ],
      "execution_count": 0,
      "outputs": []
    },
    {
      "cell_type": "code",
      "metadata": {
        "id": "xRTdqXvcSouH",
        "colab_type": "code",
        "colab": {
          "base_uri": "https://localhost:8080/",
          "height": 34
        },
        "outputId": "6b64e9f7-9bec-44e8-ff55-68b6a09cfb8b"
      },
      "source": [
        "# Now we get the root mean squared error (RMSE) it is good measure of how accurate model Predict the response.\n",
        "# it is Standerd deviation of the residual and lower values of RMSE indicate a better fit.\n",
        "rmse = np.sqrt(np.mean( predictions - y_test)**2 ) # we have created the variable called rmse.\n",
        "rmse"
      ],
      "execution_count": 81,
      "outputs": [
        {
          "output_type": "execute_result",
          "data": {
            "text/plain": [
              "0.2853996276855469"
            ]
          },
          "metadata": {
            "tags": []
          },
          "execution_count": 81
        }
      ]
    },
    {
      "cell_type": "code",
      "metadata": {
        "id": "MMSsEfilU7TH",
        "colab_type": "code",
        "colab": {
          "base_uri": "https://localhost:8080/",
          "height": 442
        },
        "outputId": "f90763a5-5ba5-4ea9-ade1-87c6e389b1a0"
      },
      "source": [
        "# Now we will plot the data on graph.\n",
        "\n",
        "train = data[:training_data_len] # Data contains the values from index zero till training_data_leg.\n",
        "valid = data[training_data_len:] # validation data set it contains data from index data training till end of the data set.\n",
        "valid['Predictions'] = predictions # we will creat another colunm called Prediction Table.\n",
        "\n",
        "# Visualize the data\n",
        "\n",
        "plt.figure(figsize=(16,8)) #We have defined the Figure Size.\n",
        "plt.title('Model', color='Green', fontsize=18)\n",
        "plt.xlabel('Date', color='Green', fontsize=18)\n",
        "plt.ylabel('Close Price USD ($)', color='Green', fontsize=18)\n",
        "plt.plot(train['Close']) #we are giving our plot some data as we want closing data so it is in Close data.\n",
        "plt.plot(valid[['Close', 'Predictions']]) # Here we defined the Actual close price and Predicted Price.\n",
        "plt.legend(['Train', 'Val', 'Predictions'], loc='lower right') # Here we inpute train data set, validation data set and prediction data set. We have give the Location on the Lower right of the graph.\n",
        "plt.show()\n"
      ],
      "execution_count": 86,
      "outputs": [
        {
          "output_type": "stream",
          "text": [
            "/usr/local/lib/python3.6/dist-packages/ipykernel_launcher.py:5: SettingWithCopyWarning: \n",
            "A value is trying to be set on a copy of a slice from a DataFrame.\n",
            "Try using .loc[row_indexer,col_indexer] = value instead\n",
            "\n",
            "See the caveats in the documentation: https://pandas.pydata.org/pandas-docs/stable/user_guide/indexing.html#returning-a-view-versus-a-copy\n",
            "  \"\"\"\n"
          ],
          "name": "stderr"
        },
        {
          "output_type": "display_data",
          "data": {
            "image/png": "[encoded data removed]",
            "text/plain": [
              "<Figure size 1152x576 with 1 Axes>"
            ]
          },
          "metadata": {
            "tags": [],
            "needs_background": "light"
          }
        }
      ]
    },
    {
      "cell_type": "code",
      "metadata": {
        "id": "T73SiE81bLO8",
        "colab_type": "code",
        "colab": {}
      },
      "source": [
        "#Blue is the data in which this model is trained on. \n",
        "#Red+orange is the actual closing values for the apple stocks values for the rest of the days. \n",
        "#Orange+Yellow is the prediction as the our model is predicted."
      ],
      "execution_count": 0,
      "outputs": []
    },
    {
      "cell_type": "code",
      "metadata": {
        "id": "0qOimMk1cIGb",
        "colab_type": "code",
        "colab": {
          "base_uri": "https://localhost:8080/",
          "height": 431
        },
        "outputId": "05b41cd4-5ada-4b68-88cd-e78e4aefbbb9"
      },
      "source": [
        "# Now we will se the Valid(Validation) and Predicted(Predictions) Prices.\n",
        "valid"
      ],
      "execution_count": 87,
      "outputs": [
        {
          "output_type": "execute_result",
          "data": {
            "text/html": [
              "<div>\n",
              "<style scoped>\n",
              "    .dataframe tbody tr th:only-of-type {\n",
              "        vertical-align: middle;\n",
              "    }\n",
              "\n",
              "    .dataframe tbody tr th {\n",
              "        vertical-align: top;\n",
              "    }\n",
              "\n",
              "    .dataframe thead th {\n",
              "        text-align: right;\n",
              "    }\n",
              "</style>\n",
              "<table border=\"1\" class=\"dataframe\">\n",
              "  <thead>\n",
              "    <tr style=\"text-align: right;\">\n",
              "      <th></th>\n",
              "      <th>Close</th>\n",
              "      <th>Predictions</th>\n",
              "    </tr>\n",
              "    <tr>\n",
              "      <th>Date</th>\n",
              "      <th></th>\n",
              "      <th></th>\n",
              "    </tr>\n",
              "  </thead>\n",
              "  <tbody>\n",
              "    <tr>\n",
              "      <th>2018-05-17</th>\n",
              "      <td>186.990005</td>\n",
              "      <td>188.997269</td>\n",
              "    </tr>\n",
              "    <tr>\n",
              "      <th>2018-05-18</th>\n",
              "      <td>186.309998</td>\n",
              "      <td>188.371964</td>\n",
              "    </tr>\n",
              "    <tr>\n",
              "      <th>2018-05-21</th>\n",
              "      <td>187.630005</td>\n",
              "      <td>187.648239</td>\n",
              "    </tr>\n",
              "    <tr>\n",
              "      <th>2018-05-22</th>\n",
              "      <td>187.160004</td>\n",
              "      <td>187.354919</td>\n",
              "    </tr>\n",
              "    <tr>\n",
              "      <th>2018-05-23</th>\n",
              "      <td>188.360001</td>\n",
              "      <td>187.183258</td>\n",
              "    </tr>\n",
              "    <tr>\n",
              "      <th>...</th>\n",
              "      <td>...</td>\n",
              "      <td>...</td>\n",
              "    </tr>\n",
              "    <tr>\n",
              "      <th>2019-12-11</th>\n",
              "      <td>270.769989</td>\n",
              "      <td>264.633118</td>\n",
              "    </tr>\n",
              "    <tr>\n",
              "      <th>2019-12-12</th>\n",
              "      <td>271.459991</td>\n",
              "      <td>265.963684</td>\n",
              "    </tr>\n",
              "    <tr>\n",
              "      <th>2019-12-13</th>\n",
              "      <td>275.149994</td>\n",
              "      <td>267.206543</td>\n",
              "    </tr>\n",
              "    <tr>\n",
              "      <th>2019-12-16</th>\n",
              "      <td>279.859985</td>\n",
              "      <td>269.045898</td>\n",
              "    </tr>\n",
              "    <tr>\n",
              "      <th>2019-12-17</th>\n",
              "      <td>280.410004</td>\n",
              "      <td>271.818878</td>\n",
              "    </tr>\n",
              "  </tbody>\n",
              "</table>\n",
              "<p>400 rows × 2 columns</p>\n",
              "</div>"
            ],
            "text/plain": [
              "                 Close  Predictions\n",
              "Date                               \n",
              "2018-05-17  186.990005   188.997269\n",
              "2018-05-18  186.309998   188.371964\n",
              "2018-05-21  187.630005   187.648239\n",
              "2018-05-22  187.160004   187.354919\n",
              "2018-05-23  188.360001   187.183258\n",
              "...                ...          ...\n",
              "2019-12-11  270.769989   264.633118\n",
              "2019-12-12  271.459991   265.963684\n",
              "2019-12-13  275.149994   267.206543\n",
              "2019-12-16  279.859985   269.045898\n",
              "2019-12-17  280.410004   271.818878\n",
              "\n",
              "[400 rows x 2 columns]"
            ]
          },
          "metadata": {
            "tags": []
          },
          "execution_count": 87
        }
      ]
    },
    {
      "cell_type": "code",
      "metadata": {
        "id": "u44pggZ5cjlP",
        "colab_type": "code",
        "colab": {
          "base_uri": "https://localhost:8080/",
          "height": 34
        },
        "outputId": "dc6e3bf6-0669-48c3-fb6f-821b09fa7e1c"
      },
      "source": [
        "# Now we will predict the Closing Stock price for the one perticular day. In that the perticular Date we have choosen is 2019-12-18.\n",
        "\n",
        "apple_quote = web.DataReader('AAPL', data_source='yahoo', start='2012-01-01', end='2019-12-17')\n",
        " \n",
        "#Create a New dataframe\n",
        "\n",
        "new_df = apple_quote.filter(['Close']) # In this we are getting just Close column.\n",
        "\n",
        "#Get the last 60 days closing price values and convert the dayaframe to an array\n",
        "\n",
        "last_60_days = new_df[-60:].values  #Create variable which contains last 60 values and put(.values) to convert it into array.\n",
        "\n",
        "#We have to scale data to be values between 0 and 1.\n",
        "\n",
        "last_60_days_scaled = scaler.transform(last_60_days)  #in this variable we are calling scaler we are not using fit transform because we are using MinMax values when we first transform data. We will transfor the data using old values.\n",
        "\n",
        "# Create and empty list.\n",
        "\n",
        "X_test = [] \n",
        "\n",
        "# we will Append the past 60 days.\n",
        "\n",
        "X_test.append(last_60_days_scaled) #We are appending the last 60 days prices that are scaled variable or data set.\n",
        "\n",
        "# Convert the X_test data set to a numpy array\n",
        "\n",
        "X_test = np.array(X_test) #we have the numpy array in the LSTM model.\n",
        "\n",
        "#Now we will Reshape the data.\n",
        "\n",
        "X_test = np.reshape(X_test, (X_test.shape[0], X_test.shape[1], 1)) # In this we are reshaping data of X_test in which X_test.shape[0] as number of sample at posiotion at zero, X_test.shape[1] as number of timesteps, and 1 as the number of features.\n",
        "\n",
        "# Now we will get the Predicted scaled Price.\n",
        "\n",
        "pred_price = model.predict(X_test) # Create the variable called Predicted Price and giveing the X_test data.\n",
        "\n",
        "#We will undu the scalling.\n",
        "\n",
        "pred_price = scaler.inverse_transform(pred_price) #We will inverse transform the Predicted price\n",
        "\n",
        "print(pred_price)"
      ],
      "execution_count": 90,
      "outputs": [
        {
          "output_type": "stream",
          "text": [
            "[[274.3273]]\n"
          ],
          "name": "stdout"
        }
      ]
    },
    {
      "cell_type": "code",
      "metadata": {
        "id": "RTMdPjc-n14V",
        "colab_type": "code",
        "colab": {
          "base_uri": "https://localhost:8080/",
          "height": 67
        },
        "outputId": "b93ec0e0-e34a-48d3-b43f-6bfaa1c0cc06"
      },
      "source": [
        "# Now we will see the actual price on that day. that is 2019-12-18.\n",
        "\n",
        "apple_quote2 = web.DataReader('AAPL', data_source='yahoo', start='2019-12-18', end='2019-12-18')\n",
        "\n",
        "#Printing the actual values of Closing price on that day that is 2019-12-18.\n",
        "\n",
        "print(apple_quote2['Close'])"
      ],
      "execution_count": 93,
      "outputs": [
        {
          "output_type": "stream",
          "text": [
            "Date\n",
            "2019-12-18    279.73999\n",
            "Name: Close, dtype: float64\n"
          ],
          "name": "stdout"
        }
      ]
    }
  ]
}