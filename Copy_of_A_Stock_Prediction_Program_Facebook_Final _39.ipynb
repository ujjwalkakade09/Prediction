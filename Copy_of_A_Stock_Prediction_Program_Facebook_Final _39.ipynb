{
  "nbformat": 4,
  "nbformat_minor": 0,
  "metadata": {
    "colab": {
      "name": "Copy of A Stock Prediction Program Facebook 39.ipynb",
      "provenance": [],
      "collapsed_sections": [],
      "authorship_tag": "ABX9TyO4gSV/kIN7M9NDvTeJAJX0",
      "include_colab_link": true
    },
    "kernelspec": {
      "name": "python3",
      "display_name": "Python 3"
    }
  },
  "cells": [
    {
      "cell_type": "markdown",
      "metadata": {
        "id": "view-in-github",
        "colab_type": "text"
      },
      "source": [
        "<a href=\"https://colab.research.google.com/github/ujjwalkakade09/Prediction/blob/master/Copy_of_A_Stock_Prediction_Program_Facebook_Final%20_39.ipynb\" target=\"_parent\"><img src=\"https://colab.research.google.com/assets/colab-badge.svg\" alt=\"Open In Colab\"/></a>"
      ]
    },
    {
      "cell_type": "code",
      "metadata": {
        "id": "XfI5VJv9nxmG",
        "colab_type": "code",
        "outputId": "7a61543e-ade5-417c-d20d-adc3cb42caab",
        "colab": {
          "base_uri": "https://localhost:8080/",
          "height": 302
        }
      },
      "source": [
        "pip install Quandl"
      ],
      "execution_count": 0,
      "outputs": [
        {
          "output_type": "stream",
          "text": [
            "Collecting Quandl\n",
            "  Downloading https://files.pythonhosted.org/packages/07/ab/8cd479fba8a9b197a43a0d55dd534b066fb8e5a0a04b5c0384cbc5d663aa/Quandl-3.5.0-py2.py3-none-any.whl\n",
            "Requirement already satisfied: six in /usr/local/lib/python3.6/dist-packages (from Quandl) (1.12.0)\n",
            "Collecting inflection>=0.3.1\n",
            "  Downloading https://files.pythonhosted.org/packages/52/c1/36be286d85dbd76527fb613527222a795d7c071da195fa916e7bf3cb03cb/inflection-0.4.0-py2.py3-none-any.whl\n",
            "Requirement already satisfied: python-dateutil in /usr/local/lib/python3.6/dist-packages (from Quandl) (2.8.1)\n",
            "Requirement already satisfied: more-itertools in /usr/local/lib/python3.6/dist-packages (from Quandl) (8.3.0)\n",
            "Requirement already satisfied: numpy>=1.8 in /usr/local/lib/python3.6/dist-packages (from Quandl) (1.18.4)\n",
            "Requirement already satisfied: pandas>=0.14 in /usr/local/lib/python3.6/dist-packages (from Quandl) (1.0.3)\n",
            "Requirement already satisfied: requests>=2.7.0 in /usr/local/lib/python3.6/dist-packages (from Quandl) (2.23.0)\n",
            "Requirement already satisfied: pytz>=2017.2 in /usr/local/lib/python3.6/dist-packages (from pandas>=0.14->Quandl) (2018.9)\n",
            "Requirement already satisfied: idna<3,>=2.5 in /usr/local/lib/python3.6/dist-packages (from requests>=2.7.0->Quandl) (2.9)\n",
            "Requirement already satisfied: certifi>=2017.4.17 in /usr/local/lib/python3.6/dist-packages (from requests>=2.7.0->Quandl) (2020.4.5.1)\n",
            "Requirement already satisfied: chardet<4,>=3.0.2 in /usr/local/lib/python3.6/dist-packages (from requests>=2.7.0->Quandl) (3.0.4)\n",
            "Requirement already satisfied: urllib3!=1.25.0,!=1.25.1,<1.26,>=1.21.1 in /usr/local/lib/python3.6/dist-packages (from requests>=2.7.0->Quandl) (1.24.3)\n",
            "Installing collected packages: inflection, Quandl\n",
            "Successfully installed Quandl-3.5.0 inflection-0.4.0\n"
          ],
          "name": "stdout"
        }
      ]
    },
    {
      "cell_type": "code",
      "metadata": {
        "id": "6kpGZMt-bcuX",
        "colab_type": "code",
        "colab": {}
      },
      "source": [
        "# This Program is predecting Stock Prices Using Machine Learning Models.\n",
        "\n",
        "# Install The Dependendencies reqired.\n",
        "\n",
        "import quandl\n",
        "import numpy as np\n",
        "from sklearn.linear_model import LinearRegression #installing for linear model in which we are using LinearRegression.\n",
        "from sklearn.svm import SVR #Installing Support Vector Machine in which we are using Support Vector Regression.\n",
        "from sklearn.model_selection import train_test_split  # Installing Model Selection to split our Data in Train and Test."
      ],
      "execution_count": 0,
      "outputs": []
    },
    {
      "cell_type": "code",
      "metadata": {
        "id": "ziPNbc-Mhm4G",
        "colab_type": "code",
        "outputId": "59a13979-c339-43bc-d163-f3ee6ed699d0",
        "colab": {
          "base_uri": "https://localhost:8080/",
          "height": 655
        }
      },
      "source": [
        "# Getting the Stock Data of the Facebook in this example.\n",
        "\n",
        "df = quandl.get(\"WIKI/FB\") #Using quando get function we are getting data from Facebook.\n",
        "\n",
        "# Showing the Data to have Look.\n",
        "print(df.info()) #to get the information about the Data.\n",
        "print(df.head()) #to Have look on first five coloms of the data.\n",
        "print(df.tail()) # to have look on the last five coloms of the data."
      ],
      "execution_count": 0,
      "outputs": [
        {
          "output_type": "stream",
          "text": [
            "<class 'pandas.core.frame.DataFrame'>\n",
            "DatetimeIndex: 1472 entries, 2012-05-18 to 2018-03-27\n",
            "Data columns (total 12 columns):\n",
            " #   Column       Non-Null Count  Dtype  \n",
            "---  ------       --------------  -----  \n",
            " 0   Open         1472 non-null   float64\n",
            " 1   High         1472 non-null   float64\n",
            " 2   Low          1472 non-null   float64\n",
            " 3   Close        1472 non-null   float64\n",
            " 4   Volume       1472 non-null   float64\n",
            " 5   Ex-Dividend  1472 non-null   float64\n",
            " 6   Split Ratio  1472 non-null   float64\n",
            " 7   Adj. Open    1472 non-null   float64\n",
            " 8   Adj. High    1472 non-null   float64\n",
            " 9   Adj. Low     1472 non-null   float64\n",
            " 10  Adj. Close   1472 non-null   float64\n",
            " 11  Adj. Volume  1472 non-null   float64\n",
            "dtypes: float64(12)\n",
            "memory usage: 149.5 KB\n",
            "None\n",
            "             Open   High    Low  ...  Adj. Low  Adj. Close  Adj. Volume\n",
            "Date                             ...                                   \n",
            "2012-05-18  42.05  45.00  38.00  ...     38.00     38.2318  573576400.0\n",
            "2012-05-21  36.53  36.66  33.00  ...     33.00     34.0300  168192700.0\n",
            "2012-05-22  32.61  33.59  30.94  ...     30.94     31.0000  101786600.0\n",
            "2012-05-23  31.37  32.50  31.36  ...     31.36     32.0000   73600000.0\n",
            "2012-05-24  32.95  33.21  31.77  ...     31.77     33.0300   50237200.0\n",
            "\n",
            "[5 rows x 12 columns]\n",
            "              Open    High     Low  ...  Adj. Low  Adj. Close  Adj. Volume\n",
            "Date                                ...                                   \n",
            "2018-03-21  164.80  173.40  163.30  ...    163.30      169.39  105350867.0\n",
            "2018-03-22  166.13  170.27  163.72  ...    163.72      164.89   73389988.0\n",
            "2018-03-23  165.44  167.10  159.02  ...    159.02      159.39   52306891.0\n",
            "2018-03-26  160.82  161.10  149.02  ...    149.02      160.06  125438294.0\n",
            "2018-03-27  156.31  162.85  150.75  ...    150.75      152.19   76787884.0\n",
            "\n",
            "[5 rows x 12 columns]\n"
          ],
          "name": "stdout"
        }
      ]
    },
    {
      "cell_type": "code",
      "metadata": {
        "id": "t-FqKxCBjt_C",
        "colab_type": "code",
        "outputId": "1689ef40-e383-4223-e969-3212c393e966",
        "colab": {
          "base_uri": "https://localhost:8080/",
          "height": 134
        }
      },
      "source": [
        "# We want the Adjusted Close Price to predict.\n",
        "\n",
        "df = df[['Adj. Close']]  #for showing the Adjusted Close Data #it is independent variable.\n",
        "print(df.head())"
      ],
      "execution_count": 0,
      "outputs": [
        {
          "output_type": "stream",
          "text": [
            "            Adj. Close\n",
            "Date                  \n",
            "2012-05-18     38.2318\n",
            "2012-05-21     34.0300\n",
            "2012-05-22     31.0000\n",
            "2012-05-23     32.0000\n",
            "2012-05-24     33.0300\n"
          ],
          "name": "stdout"
        }
      ]
    },
    {
      "cell_type": "code",
      "metadata": {
        "id": "WNDhn2cGmR18",
        "colab_type": "code",
        "colab": {}
      },
      "source": [
        "# Creating variable to predicting the future value of stock price.\n",
        "\n",
        "#forecast_out = 1 # Here we are predicting 1 day.\n",
        "\n",
        "#The variable for predicting 'n' days out into the future.\n",
        "\n",
        "#Creating the another colum (the target or dependent variable) shifted 'n' units up.\n",
        "\n",
        "#df['Prediction'] = df[['Adj. Close']].shift(-1) # we will get the Adj. Close and then shift up to 1 rows in data will appear in prediction colume.\n",
        "\n",
        "#Print the new data set.\n",
        "#print(df.head())\n",
        "\n",
        "#we will get the last last day as null as we shifted the data by 1.\n",
        "\n",
        "#print(df.tail())"
      ],
      "execution_count": 0,
      "outputs": []
    },
    {
      "cell_type": "code",
      "metadata": {
        "id": "QvK9xSmksFIP",
        "colab_type": "code",
        "outputId": "88f20136-0c1c-442f-9c0a-b1bb836e16d0",
        "colab": {
          "base_uri": "https://localhost:8080/",
          "height": 420
        }
      },
      "source": [
        "# Creating variable to predicting the future value of stock price.\n",
        "\n",
        "forecast_out = 30 # Here we are predicting 30 day thats predicting number of days.\n",
        "\n",
        "#The variable for predicting '30' days out into the future.\n",
        "\n",
        "#Creating the another colum (the target or dependent variable) shifted 'n' units up.\n",
        "\n",
        "df['Prediction'] = df[['Adj. Close']].shift(- forecast_out) # we will get the Adj. Close and then shift up to 30 rows in data will appear in prediction colume.\n",
        "\n",
        "# Print the new data set.\n",
        "print(df.head())\n",
        "\n",
        "# We will get the last last day as null as we shifted the data by 30.\n",
        "\n",
        "print(df.tail())\n",
        "\n",
        "#we will show the information of the prediction.\n",
        "\n",
        "print(df.info())"
      ],
      "execution_count": 0,
      "outputs": [
        {
          "output_type": "stream",
          "text": [
            "            Adj. Close  Prediction\n",
            "Date                              \n",
            "2012-05-18     38.2318      30.771\n",
            "2012-05-21     34.0300      31.200\n",
            "2012-05-22     31.0000      31.470\n",
            "2012-05-23     32.0000      31.730\n",
            "2012-05-24     33.0300      32.170\n",
            "            Adj. Close  Prediction\n",
            "Date                              \n",
            "2018-03-21      169.39         NaN\n",
            "2018-03-22      164.89         NaN\n",
            "2018-03-23      159.39         NaN\n",
            "2018-03-26      160.06         NaN\n",
            "2018-03-27      152.19         NaN\n",
            "<class 'pandas.core.frame.DataFrame'>\n",
            "DatetimeIndex: 1472 entries, 2012-05-18 to 2018-03-27\n",
            "Data columns (total 2 columns):\n",
            " #   Column      Non-Null Count  Dtype  \n",
            "---  ------      --------------  -----  \n",
            " 0   Adj. Close  1472 non-null   float64\n",
            " 1   Prediction  1442 non-null   float64\n",
            "dtypes: float64(2)\n",
            "memory usage: 34.5 KB\n",
            "None\n"
          ],
          "name": "stdout"
        }
      ]
    },
    {
      "cell_type": "code",
      "metadata": {
        "id": "-Q5LftLjuWkT",
        "colab_type": "code",
        "outputId": "0b3a5ef5-a05b-483c-88d1-7ec6bd5bf977",
        "colab": {
          "base_uri": "https://localhost:8080/",
          "height": 134
        }
      },
      "source": [
        "##### Creating the independent data set (x) #####\n",
        "\n",
        "#Convert the dataframe to a numpy array.\n",
        "\n",
        "x = np.array(df.drop(['Prediction'],1)) #It will convert our data into array we are going to drop the colum Prediction Colum to use the indpendet variable.\n",
        "\n",
        "#we should remove the last 30 days value in rows that the number of 'n'days that is forecast_out.\n",
        "x = x[:-forecast_out] # X is now numpy array we will get last 30 days out.\n",
        "print(x) #it is the list of list."
      ],
      "execution_count": 0,
      "outputs": [
        {
          "output_type": "stream",
          "text": [
            "[[ 38.2318]\n",
            " [ 34.03  ]\n",
            " [ 31.    ]\n",
            " ...\n",
            " [171.5499]\n",
            " [175.98  ]\n",
            " [176.41  ]]\n"
          ],
          "name": "stdout"
        }
      ]
    },
    {
      "cell_type": "code",
      "metadata": {
        "id": "gg3BlcMfztGu",
        "colab_type": "code",
        "outputId": "3d7c5e24-aaf7-4514-fa13-b0efbdb641ad",
        "colab": {
          "base_uri": "https://localhost:8080/",
          "height": 34
        }
      },
      "source": [
        "#### Creating the dependent data set (y) ####\n",
        "\n",
        "#Convert the dataframe to a numpy array (All of the values including the NaN's).\n",
        "y = np.array(df['Prediction']) # we dont need the Adj. Close colume.\n",
        "#we will get all values in the target colum exept the 30 days that last 'n' rows.\n",
        "y = y[:-forecast_out]\n",
        "print(y) # it is the list."
      ],
      "execution_count": 0,
      "outputs": [
        {
          "output_type": "stream",
          "text": [
            "[ 30.771  31.2    31.47  ... 159.39  160.06  152.19 ]\n"
          ],
          "name": "stdout"
        }
      ]
    },
    {
      "cell_type": "code",
      "metadata": {
        "id": "HEWQ85kx3bkq",
        "colab_type": "code",
        "colab": {}
      },
      "source": [
        "# Split the data into 80% Traing data and 20% Testing data.\n",
        "\n",
        "x_train, x_test, y_train, y_test = train_test_split(x, y, test_size=0.2) #we can learn this from the sklearn doccumentation which I have Defined in the report.\n"
      ],
      "execution_count": 0,
      "outputs": []
    },
    {
      "cell_type": "code",
      "metadata": {
        "id": "POd1kSgI44NP",
        "colab_type": "code",
        "outputId": "fa14bfa9-67c7-4a35-c40d-d2b2697baae9",
        "colab": {
          "base_uri": "https://localhost:8080/",
          "height": 50
        }
      },
      "source": [
        "# Creat and train the model The Support Vector Machine(Regressor).\n",
        "svr_rbf = SVR(kernel='rbf', C=1e3, gamma=0.1) #kernel is called rbf = radio basis kernel and we are using parameter C and gamma.\n",
        "svr_rbf.fit(x_train, y_train)"
      ],
      "execution_count": 0,
      "outputs": [
        {
          "output_type": "execute_result",
          "data": {
            "text/plain": [
              "SVR(C=1000.0, cache_size=200, coef0=0.0, degree=3, epsilon=0.1, gamma=0.1,\n",
              "    kernel='rbf', max_iter=-1, shrinking=True, tol=0.001, verbose=False)"
            ]
          },
          "metadata": {
            "tags": []
          },
          "execution_count": 10
        }
      ]
    },
    {
      "cell_type": "code",
      "metadata": {
        "id": "CtQKyLUi8ISR",
        "colab_type": "code",
        "outputId": "a7450af3-ab3e-41bf-a17d-e1c05cf637c0",
        "colab": {
          "base_uri": "https://localhost:8080/",
          "height": 34
        }
      },
      "source": [
        "# Test the model : Score return he coefficient of the determination R^2 of the prediction.\n",
        "# the best possible score is 1.0.\n",
        "svm_confidence = svr_rbf.score(x_test, y_test)\n",
        "print(\"svm confidence: \", svm_confidence)"
      ],
      "execution_count": 0,
      "outputs": [
        {
          "output_type": "stream",
          "text": [
            "svm confidence:  0.9822726081901446\n"
          ],
          "name": "stdout"
        }
      ]
    },
    {
      "cell_type": "code",
      "metadata": {
        "id": "KXgDBoRl9y13",
        "colab_type": "code",
        "outputId": "5778d1e8-7b15-43f7-9f44-c9601b68a3d6",
        "colab": {
          "base_uri": "https://localhost:8080/",
          "height": 34
        }
      },
      "source": [
        "#create and train the Linear Regression model\n",
        "lr = LinearRegression()\n",
        "\n",
        "#We will creat and Train the LinearRegression model using fit\n",
        "lr.fit(x_train, y_train)"
      ],
      "execution_count": 0,
      "outputs": [
        {
          "output_type": "execute_result",
          "data": {
            "text/plain": [
              "LinearRegression(copy_X=True, fit_intercept=True, n_jobs=None, normalize=False)"
            ]
          },
          "metadata": {
            "tags": []
          },
          "execution_count": 12
        }
      ]
    },
    {
      "cell_type": "code",
      "metadata": {
        "id": "FeUCxLjU_JUm",
        "colab_type": "code",
        "outputId": "8bb07d7a-cfed-43ae-aa30-08a3686dd8a2",
        "colab": {
          "base_uri": "https://localhost:8080/",
          "height": 34
        }
      },
      "source": [
        "# Test the model : Score return he coefficient of the determination R^2 of the prediction.\n",
        "# the best possible score is 1.0.\n",
        "lr_confidence = lr.score(x_test, y_test)\n",
        "print(\"lr confidence: \", lr_confidence)"
      ],
      "execution_count": 0,
      "outputs": [
        {
          "output_type": "stream",
          "text": [
            "lr confidence:  0.9795640195977603\n"
          ],
          "name": "stdout"
        }
      ]
    },
    {
      "cell_type": "code",
      "metadata": {
        "id": "Hgllhf9r_nlk",
        "colab_type": "code",
        "outputId": "fea084e4-1696-4a37-f4a7-ede4a189f054",
        "colab": {
          "base_uri": "https://localhost:8080/",
          "height": 521
        }
      },
      "source": [
        "# Set x_forecast equal to the 30 rows of the orignal data set from Adj. Close column.\n",
        "x_forecast = np.array(df.drop(['Prediction'],1)) [-forecast_out:] # we are crearing array for it and drop the prediction colum and we want last 30 rows from the all the columns in data set.\n",
        "print(x_forecast)"
      ],
      "execution_count": 0,
      "outputs": [
        {
          "output_type": "stream",
          "text": [
            "[[173.15]\n",
            " [179.52]\n",
            " [179.96]\n",
            " [177.36]\n",
            " [176.01]\n",
            " [177.91]\n",
            " [178.99]\n",
            " [183.29]\n",
            " [184.93]\n",
            " [181.46]\n",
            " [178.32]\n",
            " [175.94]\n",
            " [176.62]\n",
            " [180.4 ]\n",
            " [179.78]\n",
            " [183.71]\n",
            " [182.34]\n",
            " [185.23]\n",
            " [184.76]\n",
            " [181.88]\n",
            " [184.19]\n",
            " [183.86]\n",
            " [185.09]\n",
            " [172.56]\n",
            " [168.15]\n",
            " [169.39]\n",
            " [164.89]\n",
            " [159.39]\n",
            " [160.06]\n",
            " [152.19]]\n"
          ],
          "name": "stdout"
        }
      ]
    },
    {
      "cell_type": "code",
      "metadata": {
        "id": "7iHa5-ZOBOF8",
        "colab_type": "code",
        "outputId": "699593e1-7f41-44e5-e617-04687c9a18bf",
        "colab": {
          "base_uri": "https://localhost:8080/",
          "height": 118
        }
      },
      "source": [
        "# we will now print the prediction for LinearRegression model for the next 'n' days in now we are doing it for 30 days.\n",
        "lr_prediction = lr.predict(x_forecast)\n",
        "print(lr_prediction)"
      ],
      "execution_count": 0,
      "outputs": [
        {
          "output_type": "stream",
          "text": [
            "[177.15140543 183.59060976 184.03538996 181.4071433  180.04247676\n",
            " 181.96311855 183.05485178 187.40156742 189.05938454 185.55168611\n",
            " 182.37757283 179.97171627 180.65910386 184.48017016 183.85343442\n",
            " 187.82613034 186.44124652 189.36264377 188.88753764 185.97624903\n",
            " 188.31134511 187.97775995 189.2211228  176.55499561 172.09708493\n",
            " 173.35055641 168.80166796 163.2419154  163.91919435 155.96369388]\n"
          ],
          "name": "stdout"
        }
      ]
    },
    {
      "cell_type": "code",
      "metadata": {
        "id": "OVfVpDXOB_Nw",
        "colab_type": "code",
        "outputId": "9cb55960-f6fd-45fb-dea1-86ca61957974",
        "colab": {
          "base_uri": "https://localhost:8080/",
          "height": 118
        }
      },
      "source": [
        "# we will now print the prediction for Support Vector regressor model for the next 'n' days in now we are doing it for 30 days.\n",
        "svr_prediction = svr_rbf.predict(x_forecast)\n",
        "print(svr_prediction)"
      ],
      "execution_count": 0,
      "outputs": [
        {
          "output_type": "stream",
          "text": [
            "[174.82536263 179.19617878 178.44880447 176.13411879 177.15368074\n",
            " 177.11213318 179.461493   186.68773019 179.50864031 181.51537562\n",
            " 178.23396663 177.18833343 176.45219763 177.99594812 178.76600921\n",
            " 184.48894832 186.80015363 179.66362709 179.68371606 184.27504379\n",
            " 181.70531742 183.58905116 179.52329745 176.66429558 172.68712907\n",
            " 172.64228957 172.802051   167.35480271 166.06579954 158.25625943]\n"
          ],
          "name": "stdout"
        }
      ]
    }
  ]
}