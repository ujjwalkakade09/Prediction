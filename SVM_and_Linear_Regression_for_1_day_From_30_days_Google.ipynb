{
  "nbformat": 4,
  "nbformat_minor": 0,
  "metadata": {
    "colab": {
      "name": "SVM and Linear Regression for 1 day From 30 days Google",
      "provenance": [],
      "authorship_tag": "ABX9TyNQCFQuPhIXkCQ2CdcXDah6",
      "include_colab_link": true
    },
    "kernelspec": {
      "name": "python3",
      "display_name": "Python 3"
    }
  },
  "cells": [
    {
      "cell_type": "markdown",
      "metadata": {
        "id": "view-in-github",
        "colab_type": "text"
      },
      "source": [
        "<a href=\"https://colab.research.google.com/github/ujjwalkakade09/Prediction/blob/master/SVM_and_Linear_Regression_for_1_day_From_30_days_Google.ipynb\" target=\"_parent\"><img src=\"https://colab.research.google.com/assets/colab-badge.svg\" alt=\"Open In Colab\"/></a>"
      ]
    },
    {
      "cell_type": "code",
      "metadata": {
        "id": "19MEZHLKuDij",
        "colab_type": "code",
        "colab": {}
      },
      "source": [
        " # In this program we are predicting Stock price for the Google Stock for a specific day using the Machine Learning algorithm called the Support Vector Regression (SVR) model and Linear regression."
      ],
      "execution_count": 0,
      "outputs": []
    },
    {
      "cell_type": "code",
      "metadata": {
        "id": "cRDtl1XJ0zuw",
        "colab_type": "code",
        "colab": {}
      },
      "source": [
        "# First of we will import libraries\n",
        "\n",
        "import pandas as pd\n",
        "import numpy as np\n",
        "from sklearn.svm import SVR\n",
        "from sklearn.linear_model import LinearRegression\n",
        "import matplotlib.pyplot as plt"
      ],
      "execution_count": 0,
      "outputs": []
    },
    {
      "cell_type": "code",
      "metadata": {
        "id": "z-f3NWA61Z9m",
        "colab_type": "code",
        "colab": {
          "resources": {
            "http://localhost:8080/nbextensions/google.colab/files.js": {
              "data": "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",
              "ok": true,
              "headers": [
                [
                  "content-type",
                  "application/javascript"
                ]
              ],
              "status": 200,
              "status_text": ""
            }
          },
          "base_uri": "https://localhost:8080/",
          "height": 312
        },
        "outputId": "e9750a33-1ff2-45d6-d05c-61b112ec0122"
      },
      "source": [
        "# We will load the Dataset for the googles 30 days data which is stored as CSV file.\n",
        "\n",
        "from google.colab import files # we are using googles library because we are using googles website.\n",
        "uploaded = files.upload() # declaring the variable called upload to select the file.\n",
        "df = pd.read_csv('GOOG.csv') # Creating the variable called df as data frame and it will load the csv file from yje user location.\n",
        "df.head(7) # Printing the first 7 rows of the data."
      ],
      "execution_count": 174,
      "outputs": [
        {
          "output_type": "display_data",
          "data": {
            "text/html": [
              "\n",
              "     <input type=\"file\" id=\"files-dd6c7e30-4de5-443c-84b5-6579599d301f\" name=\"files[]\" multiple disabled />\n",
              "     <output id=\"result-dd6c7e30-4de5-443c-84b5-6579599d301f\">\n",
              "      Upload widget is only available when the cell has been executed in the\n",
              "      current browser session. Please rerun this cell to enable.\n",
              "      </output>\n",
              "      <script src=\"/nbextensions/google.colab/files.js\"></script> "
            ],
            "text/plain": [
              "<IPython.core.display.HTML object>"
            ]
          },
          "metadata": {
            "tags": []
          }
        },
        {
          "output_type": "stream",
          "text": [
            "Saving GOOG.csv to GOOG (1).csv\n"
          ],
          "name": "stdout"
        },
        {
          "output_type": "execute_result",
          "data": {
            "text/html": [
              "<div>\n",
              "<style scoped>\n",
              "    .dataframe tbody tr th:only-of-type {\n",
              "        vertical-align: middle;\n",
              "    }\n",
              "\n",
              "    .dataframe tbody tr th {\n",
              "        vertical-align: top;\n",
              "    }\n",
              "\n",
              "    .dataframe thead th {\n",
              "        text-align: right;\n",
              "    }\n",
              "</style>\n",
              "<table border=\"1\" class=\"dataframe\">\n",
              "  <thead>\n",
              "    <tr style=\"text-align: right;\">\n",
              "      <th></th>\n",
              "      <th>Date</th>\n",
              "      <th>Open</th>\n",
              "      <th>High</th>\n",
              "      <th>Low</th>\n",
              "      <th>Close</th>\n",
              "      <th>Adj Close</th>\n",
              "      <th>Volume</th>\n",
              "    </tr>\n",
              "  </thead>\n",
              "  <tbody>\n",
              "    <tr>\n",
              "      <th>0</th>\n",
              "      <td>2020-05-01</td>\n",
              "      <td>1328.500000</td>\n",
              "      <td>1352.069946</td>\n",
              "      <td>1311.000000</td>\n",
              "      <td>1320.609985</td>\n",
              "      <td>1320.609985</td>\n",
              "      <td>2072500</td>\n",
              "    </tr>\n",
              "    <tr>\n",
              "      <th>1</th>\n",
              "      <td>2020-05-04</td>\n",
              "      <td>1308.229980</td>\n",
              "      <td>1327.660034</td>\n",
              "      <td>1299.000000</td>\n",
              "      <td>1326.800049</td>\n",
              "      <td>1326.800049</td>\n",
              "      <td>1504000</td>\n",
              "    </tr>\n",
              "    <tr>\n",
              "      <th>2</th>\n",
              "      <td>2020-05-05</td>\n",
              "      <td>1337.920044</td>\n",
              "      <td>1373.939941</td>\n",
              "      <td>1337.459961</td>\n",
              "      <td>1351.109985</td>\n",
              "      <td>1351.109985</td>\n",
              "      <td>1651500</td>\n",
              "    </tr>\n",
              "    <tr>\n",
              "      <th>3</th>\n",
              "      <td>2020-05-06</td>\n",
              "      <td>1361.689941</td>\n",
              "      <td>1371.119995</td>\n",
              "      <td>1347.290039</td>\n",
              "      <td>1347.300049</td>\n",
              "      <td>1347.300049</td>\n",
              "      <td>1215400</td>\n",
              "    </tr>\n",
              "    <tr>\n",
              "      <th>4</th>\n",
              "      <td>2020-05-07</td>\n",
              "      <td>1365.939941</td>\n",
              "      <td>1377.599976</td>\n",
              "      <td>1355.270020</td>\n",
              "      <td>1372.560059</td>\n",
              "      <td>1372.560059</td>\n",
              "      <td>1397600</td>\n",
              "    </tr>\n",
              "    <tr>\n",
              "      <th>5</th>\n",
              "      <td>2020-05-08</td>\n",
              "      <td>1383.130005</td>\n",
              "      <td>1398.760010</td>\n",
              "      <td>1375.479980</td>\n",
              "      <td>1388.369995</td>\n",
              "      <td>1388.369995</td>\n",
              "      <td>1388100</td>\n",
              "    </tr>\n",
              "    <tr>\n",
              "      <th>6</th>\n",
              "      <td>2020-05-11</td>\n",
              "      <td>1378.280029</td>\n",
              "      <td>1416.530029</td>\n",
              "      <td>1377.151978</td>\n",
              "      <td>1403.260010</td>\n",
              "      <td>1403.260010</td>\n",
              "      <td>1410600</td>\n",
              "    </tr>\n",
              "  </tbody>\n",
              "</table>\n",
              "</div>"
            ],
            "text/plain": [
              "         Date         Open         High  ...        Close    Adj Close   Volume\n",
              "0  2020-05-01  1328.500000  1352.069946  ...  1320.609985  1320.609985  2072500\n",
              "1  2020-05-04  1308.229980  1327.660034  ...  1326.800049  1326.800049  1504000\n",
              "2  2020-05-05  1337.920044  1373.939941  ...  1351.109985  1351.109985  1651500\n",
              "3  2020-05-06  1361.689941  1371.119995  ...  1347.300049  1347.300049  1215400\n",
              "4  2020-05-07  1365.939941  1377.599976  ...  1372.560059  1372.560059  1397600\n",
              "5  2020-05-08  1383.130005  1398.760010  ...  1388.369995  1388.369995  1388100\n",
              "6  2020-05-11  1378.280029  1416.530029  ...  1403.260010  1403.260010  1410600\n",
              "\n",
              "[7 rows x 7 columns]"
            ]
          },
          "metadata": {
            "tags": []
          },
          "execution_count": 174
        }
      ]
    },
    {
      "cell_type": "code",
      "metadata": {
        "id": "bCy5BbFo3wTB",
        "colab_type": "code",
        "colab": {}
      },
      "source": [
        " # Now we will create variables that contains the feature lits and targets as X and Y data sets.\n",
        " # These are used as dependent and independent variables.\n",
        "\n",
        " dates = []\n",
        " prices = []"
      ],
      "execution_count": 0,
      "outputs": []
    },
    {
      "cell_type": "code",
      "metadata": {
        "id": "4m2JJvIx9T2G",
        "colab_type": "code",
        "colab": {
          "base_uri": "https://localhost:8080/",
          "height": 34
        },
        "outputId": "c52f2709-bc63-4fe1-d9aa-ad908d3299e3"
      },
      "source": [
        "# Here we will get the number of rows and columns in the data set.\n",
        "\n",
        "df.shape"
      ],
      "execution_count": 176,
      "outputs": [
        {
          "output_type": "execute_result",
          "data": {
            "text/plain": [
              "(20, 7)"
            ]
          },
          "metadata": {
            "tags": []
          },
          "execution_count": 176
        }
      ]
    },
    {
      "cell_type": "code",
      "metadata": {
        "id": "hpj7ODEKE-cp",
        "colab_type": "code",
        "colab": {
          "base_uri": "https://localhost:8080/",
          "height": 77
        },
        "outputId": "1810894e-9f47-41a9-e2cf-1ef25c18e4a8"
      },
      "source": [
        "# We will get the last row of the data( this will be the data we test on ) for that we will get the days and see how well our model predicts the price of that day.\n",
        "\n",
        "# we will also delete this row when we will train our model.\n",
        "\n",
        "df.tail(1) # In this we are interested in the last day to predict as we are finding the open price."
      ],
      "execution_count": 177,
      "outputs": [
        {
          "output_type": "execute_result",
          "data": {
            "text/html": [
              "<div>\n",
              "<style scoped>\n",
              "    .dataframe tbody tr th:only-of-type {\n",
              "        vertical-align: middle;\n",
              "    }\n",
              "\n",
              "    .dataframe tbody tr th {\n",
              "        vertical-align: top;\n",
              "    }\n",
              "\n",
              "    .dataframe thead th {\n",
              "        text-align: right;\n",
              "    }\n",
              "</style>\n",
              "<table border=\"1\" class=\"dataframe\">\n",
              "  <thead>\n",
              "    <tr style=\"text-align: right;\">\n",
              "      <th></th>\n",
              "      <th>Date</th>\n",
              "      <th>Open</th>\n",
              "      <th>High</th>\n",
              "      <th>Low</th>\n",
              "      <th>Close</th>\n",
              "      <th>Adj Close</th>\n",
              "      <th>Volume</th>\n",
              "    </tr>\n",
              "  </thead>\n",
              "  <tbody>\n",
              "    <tr>\n",
              "      <th>19</th>\n",
              "      <td>2020-05-29</td>\n",
              "      <td>1416.939941</td>\n",
              "      <td>1432.569946</td>\n",
              "      <td>1413.349976</td>\n",
              "      <td>1428.920044</td>\n",
              "      <td>1428.920044</td>\n",
              "      <td>1838100</td>\n",
              "    </tr>\n",
              "  </tbody>\n",
              "</table>\n",
              "</div>"
            ],
            "text/plain": [
              "          Date         Open         High  ...        Close    Adj Close   Volume\n",
              "19  2020-05-29  1416.939941  1432.569946  ...  1428.920044  1428.920044  1838100\n",
              "\n",
              "[1 rows x 7 columns]"
            ]
          },
          "metadata": {
            "tags": []
          },
          "execution_count": 177
        }
      ]
    },
    {
      "cell_type": "code",
      "metadata": {
        "id": "QzZ5b9BxGMU5",
        "colab_type": "code",
        "colab": {
          "base_uri": "https://localhost:8080/",
          "height": 610
        },
        "outputId": "81c3dc55-6e0f-45b7-fa97-baf9f42dcbe5"
      },
      "source": [
        " # we are going recreate the dataset that means manipulate the data set for that we will get all of the rows of the data from the data frame ecept from the last row.\n",
        "\n",
        " df = df.head(len(df)-1)\n",
        "\n",
        " #We got the all of the data except for the last row and we will print it.\n",
        "\n",
        " df"
      ],
      "execution_count": 178,
      "outputs": [
        {
          "output_type": "execute_result",
          "data": {
            "text/html": [
              "<div>\n",
              "<style scoped>\n",
              "    .dataframe tbody tr th:only-of-type {\n",
              "        vertical-align: middle;\n",
              "    }\n",
              "\n",
              "    .dataframe tbody tr th {\n",
              "        vertical-align: top;\n",
              "    }\n",
              "\n",
              "    .dataframe thead th {\n",
              "        text-align: right;\n",
              "    }\n",
              "</style>\n",
              "<table border=\"1\" class=\"dataframe\">\n",
              "  <thead>\n",
              "    <tr style=\"text-align: right;\">\n",
              "      <th></th>\n",
              "      <th>Date</th>\n",
              "      <th>Open</th>\n",
              "      <th>High</th>\n",
              "      <th>Low</th>\n",
              "      <th>Close</th>\n",
              "      <th>Adj Close</th>\n",
              "      <th>Volume</th>\n",
              "    </tr>\n",
              "  </thead>\n",
              "  <tbody>\n",
              "    <tr>\n",
              "      <th>0</th>\n",
              "      <td>2020-05-01</td>\n",
              "      <td>1328.500000</td>\n",
              "      <td>1352.069946</td>\n",
              "      <td>1311.000000</td>\n",
              "      <td>1320.609985</td>\n",
              "      <td>1320.609985</td>\n",
              "      <td>2072500</td>\n",
              "    </tr>\n",
              "    <tr>\n",
              "      <th>1</th>\n",
              "      <td>2020-05-04</td>\n",
              "      <td>1308.229980</td>\n",
              "      <td>1327.660034</td>\n",
              "      <td>1299.000000</td>\n",
              "      <td>1326.800049</td>\n",
              "      <td>1326.800049</td>\n",
              "      <td>1504000</td>\n",
              "    </tr>\n",
              "    <tr>\n",
              "      <th>2</th>\n",
              "      <td>2020-05-05</td>\n",
              "      <td>1337.920044</td>\n",
              "      <td>1373.939941</td>\n",
              "      <td>1337.459961</td>\n",
              "      <td>1351.109985</td>\n",
              "      <td>1351.109985</td>\n",
              "      <td>1651500</td>\n",
              "    </tr>\n",
              "    <tr>\n",
              "      <th>3</th>\n",
              "      <td>2020-05-06</td>\n",
              "      <td>1361.689941</td>\n",
              "      <td>1371.119995</td>\n",
              "      <td>1347.290039</td>\n",
              "      <td>1347.300049</td>\n",
              "      <td>1347.300049</td>\n",
              "      <td>1215400</td>\n",
              "    </tr>\n",
              "    <tr>\n",
              "      <th>4</th>\n",
              "      <td>2020-05-07</td>\n",
              "      <td>1365.939941</td>\n",
              "      <td>1377.599976</td>\n",
              "      <td>1355.270020</td>\n",
              "      <td>1372.560059</td>\n",
              "      <td>1372.560059</td>\n",
              "      <td>1397600</td>\n",
              "    </tr>\n",
              "    <tr>\n",
              "      <th>5</th>\n",
              "      <td>2020-05-08</td>\n",
              "      <td>1383.130005</td>\n",
              "      <td>1398.760010</td>\n",
              "      <td>1375.479980</td>\n",
              "      <td>1388.369995</td>\n",
              "      <td>1388.369995</td>\n",
              "      <td>1388100</td>\n",
              "    </tr>\n",
              "    <tr>\n",
              "      <th>6</th>\n",
              "      <td>2020-05-11</td>\n",
              "      <td>1378.280029</td>\n",
              "      <td>1416.530029</td>\n",
              "      <td>1377.151978</td>\n",
              "      <td>1403.260010</td>\n",
              "      <td>1403.260010</td>\n",
              "      <td>1410600</td>\n",
              "    </tr>\n",
              "    <tr>\n",
              "      <th>7</th>\n",
              "      <td>2020-05-12</td>\n",
              "      <td>1407.119995</td>\n",
              "      <td>1415.000000</td>\n",
              "      <td>1374.770020</td>\n",
              "      <td>1375.739990</td>\n",
              "      <td>1375.739990</td>\n",
              "      <td>1390600</td>\n",
              "    </tr>\n",
              "    <tr>\n",
              "      <th>8</th>\n",
              "      <td>2020-05-13</td>\n",
              "      <td>1377.050049</td>\n",
              "      <td>1385.482056</td>\n",
              "      <td>1328.400024</td>\n",
              "      <td>1349.329956</td>\n",
              "      <td>1349.329956</td>\n",
              "      <td>1812600</td>\n",
              "    </tr>\n",
              "    <tr>\n",
              "      <th>9</th>\n",
              "      <td>2020-05-14</td>\n",
              "      <td>1335.020020</td>\n",
              "      <td>1357.420044</td>\n",
              "      <td>1323.910034</td>\n",
              "      <td>1356.130005</td>\n",
              "      <td>1356.130005</td>\n",
              "      <td>1603100</td>\n",
              "    </tr>\n",
              "    <tr>\n",
              "      <th>10</th>\n",
              "      <td>2020-05-15</td>\n",
              "      <td>1350.000000</td>\n",
              "      <td>1374.479980</td>\n",
              "      <td>1339.000000</td>\n",
              "      <td>1373.189941</td>\n",
              "      <td>1373.189941</td>\n",
              "      <td>1707700</td>\n",
              "    </tr>\n",
              "    <tr>\n",
              "      <th>11</th>\n",
              "      <td>2020-05-18</td>\n",
              "      <td>1361.750000</td>\n",
              "      <td>1392.324951</td>\n",
              "      <td>1354.250000</td>\n",
              "      <td>1383.939941</td>\n",
              "      <td>1383.939941</td>\n",
              "      <td>1824000</td>\n",
              "    </tr>\n",
              "    <tr>\n",
              "      <th>12</th>\n",
              "      <td>2020-05-19</td>\n",
              "      <td>1386.996948</td>\n",
              "      <td>1392.000000</td>\n",
              "      <td>1373.484985</td>\n",
              "      <td>1373.484985</td>\n",
              "      <td>1373.484985</td>\n",
              "      <td>1280600</td>\n",
              "    </tr>\n",
              "    <tr>\n",
              "      <th>13</th>\n",
              "      <td>2020-05-20</td>\n",
              "      <td>1389.579956</td>\n",
              "      <td>1410.420044</td>\n",
              "      <td>1387.250000</td>\n",
              "      <td>1406.719971</td>\n",
              "      <td>1406.719971</td>\n",
              "      <td>1655400</td>\n",
              "    </tr>\n",
              "    <tr>\n",
              "      <th>14</th>\n",
              "      <td>2020-05-21</td>\n",
              "      <td>1408.000000</td>\n",
              "      <td>1415.489990</td>\n",
              "      <td>1393.449951</td>\n",
              "      <td>1402.800049</td>\n",
              "      <td>1402.800049</td>\n",
              "      <td>1385000</td>\n",
              "    </tr>\n",
              "    <tr>\n",
              "      <th>15</th>\n",
              "      <td>2020-05-22</td>\n",
              "      <td>1396.709961</td>\n",
              "      <td>1412.760010</td>\n",
              "      <td>1391.829956</td>\n",
              "      <td>1410.420044</td>\n",
              "      <td>1410.420044</td>\n",
              "      <td>1309400</td>\n",
              "    </tr>\n",
              "    <tr>\n",
              "      <th>16</th>\n",
              "      <td>2020-05-26</td>\n",
              "      <td>1437.270020</td>\n",
              "      <td>1441.000000</td>\n",
              "      <td>1412.130005</td>\n",
              "      <td>1417.020020</td>\n",
              "      <td>1417.020020</td>\n",
              "      <td>2060600</td>\n",
              "    </tr>\n",
              "    <tr>\n",
              "      <th>17</th>\n",
              "      <td>2020-05-27</td>\n",
              "      <td>1417.250000</td>\n",
              "      <td>1421.739990</td>\n",
              "      <td>1391.290039</td>\n",
              "      <td>1417.839966</td>\n",
              "      <td>1417.839966</td>\n",
              "      <td>1685800</td>\n",
              "    </tr>\n",
              "    <tr>\n",
              "      <th>18</th>\n",
              "      <td>2020-05-28</td>\n",
              "      <td>1396.859985</td>\n",
              "      <td>1440.839966</td>\n",
              "      <td>1396.000000</td>\n",
              "      <td>1416.729980</td>\n",
              "      <td>1416.729980</td>\n",
              "      <td>1692200</td>\n",
              "    </tr>\n",
              "  </tbody>\n",
              "</table>\n",
              "</div>"
            ],
            "text/plain": [
              "          Date         Open         High  ...        Close    Adj Close   Volume\n",
              "0   2020-05-01  1328.500000  1352.069946  ...  1320.609985  1320.609985  2072500\n",
              "1   2020-05-04  1308.229980  1327.660034  ...  1326.800049  1326.800049  1504000\n",
              "2   2020-05-05  1337.920044  1373.939941  ...  1351.109985  1351.109985  1651500\n",
              "3   2020-05-06  1361.689941  1371.119995  ...  1347.300049  1347.300049  1215400\n",
              "4   2020-05-07  1365.939941  1377.599976  ...  1372.560059  1372.560059  1397600\n",
              "5   2020-05-08  1383.130005  1398.760010  ...  1388.369995  1388.369995  1388100\n",
              "6   2020-05-11  1378.280029  1416.530029  ...  1403.260010  1403.260010  1410600\n",
              "7   2020-05-12  1407.119995  1415.000000  ...  1375.739990  1375.739990  1390600\n",
              "8   2020-05-13  1377.050049  1385.482056  ...  1349.329956  1349.329956  1812600\n",
              "9   2020-05-14  1335.020020  1357.420044  ...  1356.130005  1356.130005  1603100\n",
              "10  2020-05-15  1350.000000  1374.479980  ...  1373.189941  1373.189941  1707700\n",
              "11  2020-05-18  1361.750000  1392.324951  ...  1383.939941  1383.939941  1824000\n",
              "12  2020-05-19  1386.996948  1392.000000  ...  1373.484985  1373.484985  1280600\n",
              "13  2020-05-20  1389.579956  1410.420044  ...  1406.719971  1406.719971  1655400\n",
              "14  2020-05-21  1408.000000  1415.489990  ...  1402.800049  1402.800049  1385000\n",
              "15  2020-05-22  1396.709961  1412.760010  ...  1410.420044  1410.420044  1309400\n",
              "16  2020-05-26  1437.270020  1441.000000  ...  1417.020020  1417.020020  2060600\n",
              "17  2020-05-27  1417.250000  1421.739990  ...  1417.839966  1417.839966  1685800\n",
              "18  2020-05-28  1396.859985  1440.839966  ...  1416.729980  1416.729980  1692200\n",
              "\n",
              "[19 rows x 7 columns]"
            ]
          },
          "metadata": {
            "tags": []
          },
          "execution_count": 178
        }
      ]
    },
    {
      "cell_type": "code",
      "metadata": {
        "id": "FP3DCjsyKnxo",
        "colab_type": "code",
        "colab": {
          "base_uri": "https://localhost:8080/",
          "height": 34
        },
        "outputId": "a64098df-e4b7-46ba-c6a9-fbb4763e2724"
      },
      "source": [
        "# The new shape of the data.\n",
        "\n",
        "df.shape # as we can see we have deleted the last row."
      ],
      "execution_count": 179,
      "outputs": [
        {
          "output_type": "execute_result",
          "data": {
            "text/plain": [
              "(19, 7)"
            ]
          },
          "metadata": {
            "tags": []
          },
          "execution_count": 179
        }
      ]
    },
    {
      "cell_type": "code",
      "metadata": {
        "id": "Hg3DL06RVn7w",
        "colab_type": "code",
        "colab": {}
      },
      "source": [
        "# Now we will get all the rows from the Date Column and store it in new variable.\n",
        "\n",
        "df_dates = df.loc[:, 'Date']\n",
        "\n",
        "# Now we will get all the rows from the Open Column and store it in new variable.\n",
        "\n",
        "df_open = df.loc[:, 'Open']"
      ],
      "execution_count": 0,
      "outputs": []
    },
    {
      "cell_type": "code",
      "metadata": {
        "id": "dlWV7tDsXAgN",
        "colab_type": "code",
        "colab": {}
      },
      "source": [
        "# We will create the independent data set 'X', for that we will use the date list and we will put the loop for it.\n",
        "\n",
        "for date in df_dates:\n",
        "\n",
        "  dates.append([ int(date.split('-')[2])]) # we are appending the days to list from the dataset, as we want it in integer so we provided int function to it and that should be in array so we put it into array.\n",
        "\n",
        "  # we are doing this basically if we see tha date column we have dates as 2020-04-30 we are splitting this with '-' in this we are apliting it in index 2 as it is days.\n",
        "\n",
        "# Now we craete the dependent data set 'Y', as it is prices and apply for loop for it also.\n",
        "\n",
        "for open_price in df_open:\n",
        "\n",
        "  prices.append(float(open_price)) #we are taking the float values as we have opens values are in decimal.\n"
      ],
      "execution_count": 0,
      "outputs": []
    },
    {
      "cell_type": "code",
      "metadata": {
        "id": "bwFwQ3_ziJP-",
        "colab_type": "code",
        "colab": {
          "base_uri": "https://localhost:8080/",
          "height": 34
        },
        "outputId": "85a0042c-6845-4dfa-9679-d8fe6af9e091"
      },
      "source": [
        "# we will see what days were recorded.\n",
        "\n",
        "print(dates)"
      ],
      "execution_count": 182,
      "outputs": [
        {
          "output_type": "stream",
          "text": [
            "[[1], [4], [5], [6], [7], [8], [11], [12], [13], [14], [15], [18], [19], [20], [21], [22], [26], [27], [28]]\n"
          ],
          "name": "stdout"
        }
      ]
    },
    {
      "cell_type": "code",
      "metadata": {
        "id": "mWX6Ix-oijDD",
        "colab_type": "code",
        "colab": {}
      },
      "source": [
        " # Now we have the manipulated data so now we will create our model.\n",
        "\n",
        "def predict_prices(dates, prices, x): # we have created new function and it contains dates, prices and 'x' as day.\n",
        "\n",
        "# We will create 3 Support Vector Regression models for that we will create 3 new varibales. All these parameters are the hyper parameters.\n",
        "\n",
        "  svr_lin = SVR(kernel='linear', C= 1e3)         # This for Support Vector Regression with linear kernal.\n",
        "  svr_poly= SVR(kernel='poly', C=1e3, degree=2)  # This for Support Vector Regression with polynomial model with degree.\n",
        "  svr_rbf = SVR(kernel='rbf', C= 1e3, gamma=0.1) # This for Support Vector Regression with Radial basis function kernel.\n",
        "\n",
        "# Lets train the SVR models with fit method on data that is dependent and independent data as dates and prices respectivly.\n",
        "\n",
        "  svr_lin.fit(dates,prices)\n",
        "  svr_poly.fit(dates,prices)\n",
        "  svr_rbf.fit(dates,prices)\n",
        "\n",
        "# we will create the Linear Regression model ans store it in new variable.\n",
        "\n",
        "  lin_reg = LinearRegression()\n",
        "\n",
        "# Lets train the Linear Regression model.\n",
        "\n",
        "  lin_reg.fit(dates,prices)\n",
        "\n",
        "# We will plot the models on a graph to see which has the best fit.\n",
        "\n",
        "  plt.scatter(dates, prices, color='black', label='Data') # We will plot it in the scattered data for the first point.\n",
        "\n",
        "#For the rest of the model we will plot the lines chart.\n",
        "\n",
        "# This will be the prediction on the dates where the model thinks actual target is.\n",
        "\n",
        "  plt.plot(dates, svr_rbf.predict(dates), color='red', label='SVR RBF') \n",
        "  plt.plot(dates, svr_poly.predict(dates), color='blue', label='SVR Poly')\n",
        "  plt.plot(dates, svr_lin.predict(dates), color='green', label='SVR Linear')\n",
        "  plt.plot(dates, lin_reg.predict(dates), color='orange', label='Linear Reg')\n",
        "\n",
        "# In this we have the dates that is x-axis which will be the days, and the predictions will be the y-axis.\n",
        "\n",
        "  plt.xlabel('Days')\n",
        "  plt.ylabel('Price')\n",
        "  plt.title('Regression Model Predictions')\n",
        "  plt.legend()\n",
        "  plt.show()\n",
        "\n",
        "# Lets return the all of the model.\n",
        "\n",
        "  return svr_rbf.predict(x)[0], svr_lin.predict(x)[0], svr_poly.predict(x)[0], lin_reg.predict(x)[0]"
      ],
      "execution_count": 0,
      "outputs": []
    },
    {
      "cell_type": "code",
      "metadata": {
        "id": "qZpbRItLeV3X",
        "colab_type": "code",
        "colab": {
          "base_uri": "https://localhost:8080/",
          "height": 312
        },
        "outputId": "58d57626-dcf2-4441-b8b0-e6f3a2768a9e"
      },
      "source": [
        "# Now we will predict the price on the the specific day that is the prive in the last row that we have eleminated that is 2020-05-01.\n",
        "\n",
        "predicted_price = predict_prices(dates, prices, [[29]])\n",
        "\n",
        "print(predicted_price)"
      ],
      "execution_count": 184,
      "outputs": [
        {
          "output_type": "display_data",
          "data": {
            "image/png": "[encoded data removed]",
            "text/plain": [
              "<Figure size 432x288 with 1 Axes>"
            ]
          },
          "metadata": {
            "tags": [],
            "needs_background": "light"
          }
        },
        {
          "output_type": "stream",
          "text": [
            "(1388.2810621076776, 1419.59525244433, 1425.0149836479582, 1419.6552097683855)\n"
          ],
          "name": "stdout"
        }
      ]
    }
  ]
}