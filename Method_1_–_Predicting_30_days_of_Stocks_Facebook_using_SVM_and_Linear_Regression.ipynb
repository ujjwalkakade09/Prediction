{
  "nbformat": 4,
  "nbformat_minor": 0,
  "metadata": {
    "colab": {
      "name": "Method 1 – Predicting 30 days of Stocks Facebook using SVM and Linear Regression.ipynb",
      "provenance": [],
      "collapsed_sections": [],
      "authorship_tag": "ABX9TyO4gSV/kIN7M9NDvTeJAJX0",
      "include_colab_link": true
    },
    "kernelspec": {
      "name": "python3",
      "display_name": "Python 3"
    }
  },
  "cells": [
    {
      "cell_type": "markdown",
      "metadata": {
        "id": "view-in-github",
        "colab_type": "text"
      },
      "source": [
        "<a href=\"https://colab.research.google.com/github/ujjwalkakade09/Prediction/blob/master/Method_1_%E2%80%93_Predicting_30_days_of_Stocks_Facebook_using_SVM_and_Linear_Regression.ipynb\" target=\"_parent\"><img src=\"https://colab.research.google.com/assets/colab-badge.svg\" alt=\"Open In Colab\"/></a>"
      ]
    },
    {
      "cell_type": "code",
      "metadata": {
        "id": "XfI5VJv9nxmG",
        "colab_type": "code",
        "colab": {
          "base_uri": "https://localhost:8080/",
          "height": 302
        },
        "outputId": "b969c9c2-d51a-49ad-d86d-d34293f54bb4"
      },
      "source": [
        "pip install Quandl"
      ],
      "execution_count": null,
      "outputs": [
        {
          "output_type": "stream",
          "text": [
            "Collecting Quandl\n",
            "  Downloading https://files.pythonhosted.org/packages/07/ab/8cd479fba8a9b197a43a0d55dd534b066fb8e5a0a04b5c0384cbc5d663aa/Quandl-3.5.0-py2.py3-none-any.whl\n",
            "Requirement already satisfied: more-itertools in /usr/local/lib/python3.6/dist-packages (from Quandl) (8.3.0)\n",
            "Requirement already satisfied: python-dateutil in /usr/local/lib/python3.6/dist-packages (from Quandl) (2.8.1)\n",
            "Requirement already satisfied: requests>=2.7.0 in /usr/local/lib/python3.6/dist-packages (from Quandl) (2.23.0)\n",
            "Requirement already satisfied: six in /usr/local/lib/python3.6/dist-packages (from Quandl) (1.12.0)\n",
            "Requirement already satisfied: numpy>=1.8 in /usr/local/lib/python3.6/dist-packages (from Quandl) (1.18.5)\n",
            "Collecting inflection>=0.3.1\n",
            "  Downloading https://files.pythonhosted.org/packages/d2/cd/f04c661d1b5ba6b7d77008e8fedd28a27a683eeeffcd93c6b2dbe54ea983/inflection-0.5.0-py2.py3-none-any.whl\n",
            "Requirement already satisfied: pandas>=0.14 in /usr/local/lib/python3.6/dist-packages (from Quandl) (1.0.4)\n",
            "Requirement already satisfied: urllib3!=1.25.0,!=1.25.1,<1.26,>=1.21.1 in /usr/local/lib/python3.6/dist-packages (from requests>=2.7.0->Quandl) (1.24.3)\n",
            "Requirement already satisfied: idna<3,>=2.5 in /usr/local/lib/python3.6/dist-packages (from requests>=2.7.0->Quandl) (2.9)\n",
            "Requirement already satisfied: chardet<4,>=3.0.2 in /usr/local/lib/python3.6/dist-packages (from requests>=2.7.0->Quandl) (3.0.4)\n",
            "Requirement already satisfied: certifi>=2017.4.17 in /usr/local/lib/python3.6/dist-packages (from requests>=2.7.0->Quandl) (2020.4.5.1)\n",
            "Requirement already satisfied: pytz>=2017.2 in /usr/local/lib/python3.6/dist-packages (from pandas>=0.14->Quandl) (2018.9)\n",
            "Installing collected packages: inflection, Quandl\n",
            "Successfully installed Quandl-3.5.0 inflection-0.5.0\n"
          ],
          "name": "stdout"
        }
      ]
    },
    {
      "cell_type": "code",
      "metadata": {
        "id": "6kpGZMt-bcuX",
        "colab_type": "code",
        "colab": {}
      },
      "source": [
        "# This Program is predecting Stock Prices Using Machine Learning Models.\n",
        "\n",
        "# Install The Dependendencies reqired.\n",
        "\n",
        "import quandl\n",
        "import numpy as np\n",
        "from sklearn.linear_model import LinearRegression #installing for linear model in which we are using LinearRegression.\n",
        "from sklearn.svm import SVR #Installing Support Vector Machine in which we are using Support Vector Regression.\n",
        "from sklearn.model_selection import train_test_split  # Installing Model Selection to split our Data in Train and Test."
      ],
      "execution_count": null,
      "outputs": []
    },
    {
      "cell_type": "code",
      "metadata": {
        "id": "ziPNbc-Mhm4G",
        "colab_type": "code",
        "colab": {
          "base_uri": "https://localhost:8080/",
          "height": 655
        },
        "outputId": "89526d45-5252-487d-a5c8-c9d368308c58"
      },
      "source": [
        "# Getting the Stock Data of the Facebook in this example.\n",
        "\n",
        "df = quandl.get(\"WIKI/FB\") #Using quando get function we are getting data from Facebook.\n",
        "\n",
        "# Showing the Data to have Look.\n",
        "print(df.info()) #to get the information about the Data.\n",
        "print(df.head()) #to Have look on first five coloms of the data.\n",
        "print(df.tail()) # to have look on the last five coloms of the data."
      ],
      "execution_count": null,
      "outputs": [
        {
          "output_type": "stream",
          "text": [
            "<class 'pandas.core.frame.DataFrame'>\n",
            "DatetimeIndex: 1472 entries, 2012-05-18 to 2018-03-27\n",
            "Data columns (total 12 columns):\n",
            " #   Column       Non-Null Count  Dtype  \n",
            "---  ------       --------------  -----  \n",
            " 0   Open         1472 non-null   float64\n",
            " 1   High         1472 non-null   float64\n",
            " 2   Low          1472 non-null   float64\n",
            " 3   Close        1472 non-null   float64\n",
            " 4   Volume       1472 non-null   float64\n",
            " 5   Ex-Dividend  1472 non-null   float64\n",
            " 6   Split Ratio  1472 non-null   float64\n",
            " 7   Adj. Open    1472 non-null   float64\n",
            " 8   Adj. High    1472 non-null   float64\n",
            " 9   Adj. Low     1472 non-null   float64\n",
            " 10  Adj. Close   1472 non-null   float64\n",
            " 11  Adj. Volume  1472 non-null   float64\n",
            "dtypes: float64(12)\n",
            "memory usage: 149.5 KB\n",
            "None\n",
            "             Open   High    Low  ...  Adj. Low  Adj. Close  Adj. Volume\n",
            "Date                             ...                                   \n",
            "2012-05-18  42.05  45.00  38.00  ...     38.00     38.2318  573576400.0\n",
            "2012-05-21  36.53  36.66  33.00  ...     33.00     34.0300  168192700.0\n",
            "2012-05-22  32.61  33.59  30.94  ...     30.94     31.0000  101786600.0\n",
            "2012-05-23  31.37  32.50  31.36  ...     31.36     32.0000   73600000.0\n",
            "2012-05-24  32.95  33.21  31.77  ...     31.77     33.0300   50237200.0\n",
            "\n",
            "[5 rows x 12 columns]\n",
            "              Open    High     Low  ...  Adj. Low  Adj. Close  Adj. Volume\n",
            "Date                                ...                                   \n",
            "2018-03-21  164.80  173.40  163.30  ...    163.30      169.39  105350867.0\n",
            "2018-03-22  166.13  170.27  163.72  ...    163.72      164.89   73389988.0\n",
            "2018-03-23  165.44  167.10  159.02  ...    159.02      159.39   52306891.0\n",
            "2018-03-26  160.82  161.10  149.02  ...    149.02      160.06  125438294.0\n",
            "2018-03-27  156.31  162.85  150.75  ...    150.75      152.19   76787884.0\n",
            "\n",
            "[5 rows x 12 columns]\n"
          ],
          "name": "stdout"
        }
      ]
    },
    {
      "cell_type": "code",
      "metadata": {
        "id": "t-FqKxCBjt_C",
        "colab_type": "code",
        "colab": {
          "base_uri": "https://localhost:8080/",
          "height": 134
        },
        "outputId": "1689ef40-e383-4223-e969-3212c393e966"
      },
      "source": [
        "# We want the Adjusted Close Price to predict.\n",
        "\n",
        "df = df[['Adj. Close']]  #for showing the Adjusted Close Data #it is independent variable.\n",
        "print(df.head())"
      ],
      "execution_count": null,
      "outputs": [
        {
          "output_type": "stream",
          "text": [
            "            Adj. Close\n",
            "Date                  \n",
            "2012-05-18     38.2318\n",
            "2012-05-21     34.0300\n",
            "2012-05-22     31.0000\n",
            "2012-05-23     32.0000\n",
            "2012-05-24     33.0300\n"
          ],
          "name": "stdout"
        }
      ]
    },
    {
      "cell_type": "code",
      "metadata": {
        "id": "WNDhn2cGmR18",
        "colab_type": "code",
        "colab": {}
      },
      "source": [
        "# Creating variable to predicting the future value of stock price.\n",
        "\n",
        "#forecast_out = 1 # Here we are predicting 1 day.\n",
        "\n",
        "#The variable for predicting 'n' days out into the future.\n",
        "\n",
        "#Creating the another colum (the target or dependent variable) shifted 'n' units up.\n",
        "\n",
        "#df['Prediction'] = df[['Adj. Close']].shift(-1) # we will get the Adj. Close and then shift up to 1 rows in data will appear in prediction colume.\n",
        "\n",
        "#Print the new data set.\n",
        "#print(df.head())\n",
        "\n",
        "#we will get the last last day as null as we shifted the data by 1.\n",
        "\n",
        "#print(df.tail())"
      ],
      "execution_count": null,
      "outputs": []
    },
    {
      "cell_type": "code",
      "metadata": {
        "id": "QvK9xSmksFIP",
        "colab_type": "code",
        "colab": {
          "base_uri": "https://localhost:8080/",
          "height": 672
        },
        "outputId": "94edfa63-578e-4bc8-bdbc-cd405d557ec9"
      },
      "source": [
        "# Creating variable to predicting the future value of stock price.\n",
        "\n",
        "forecast_out = 30 # Here we are predicting 30 day thats predicting number of days.\n",
        "\n",
        "#The variable for predicting '30' days out into the future.\n",
        "\n",
        "#Creating the another colum (the target or dependent variable) shifted 'n' units up.\n",
        "\n",
        "df['Prediction'] = df[['Adj. Close']].shift(- forecast_out) # we will get the Adj. Close and then shift up to 30 rows in data will appear in prediction colume.\n",
        "\n",
        "# Print the new data set.\n",
        "print(df.head())\n",
        "\n",
        "# We will get the last last day as null as we shifted the data by 30.\n",
        "\n",
        "print(df.tail())\n",
        "\n",
        "#we will show the information of the prediction.\n",
        "\n",
        "print(df.info())"
      ],
      "execution_count": null,
      "outputs": [
        {
          "output_type": "stream",
          "text": [
            "             Open   High    Low  ...  Adj. Close  Adj. Volume  Prediction\n",
            "Date                             ...                                     \n",
            "2012-05-18  42.05  45.00  38.00  ...     38.2318  573576400.0      30.771\n",
            "2012-05-21  36.53  36.66  33.00  ...     34.0300  168192700.0      31.200\n",
            "2012-05-22  32.61  33.59  30.94  ...     31.0000  101786600.0      31.470\n",
            "2012-05-23  31.37  32.50  31.36  ...     32.0000   73600000.0      31.730\n",
            "2012-05-24  32.95  33.21  31.77  ...     33.0300   50237200.0      32.170\n",
            "\n",
            "[5 rows x 13 columns]\n",
            "              Open    High     Low  ...  Adj. Close  Adj. Volume  Prediction\n",
            "Date                                ...                                     \n",
            "2018-03-21  164.80  173.40  163.30  ...      169.39  105350867.0         NaN\n",
            "2018-03-22  166.13  170.27  163.72  ...      164.89   73389988.0         NaN\n",
            "2018-03-23  165.44  167.10  159.02  ...      159.39   52306891.0         NaN\n",
            "2018-03-26  160.82  161.10  149.02  ...      160.06  125438294.0         NaN\n",
            "2018-03-27  156.31  162.85  150.75  ...      152.19   76787884.0         NaN\n",
            "\n",
            "[5 rows x 13 columns]\n",
            "<class 'pandas.core.frame.DataFrame'>\n",
            "DatetimeIndex: 1472 entries, 2012-05-18 to 2018-03-27\n",
            "Data columns (total 13 columns):\n",
            " #   Column       Non-Null Count  Dtype  \n",
            "---  ------       --------------  -----  \n",
            " 0   Open         1472 non-null   float64\n",
            " 1   High         1472 non-null   float64\n",
            " 2   Low          1472 non-null   float64\n",
            " 3   Close        1472 non-null   float64\n",
            " 4   Volume       1472 non-null   float64\n",
            " 5   Ex-Dividend  1472 non-null   float64\n",
            " 6   Split Ratio  1472 non-null   float64\n",
            " 7   Adj. Open    1472 non-null   float64\n",
            " 8   Adj. High    1472 non-null   float64\n",
            " 9   Adj. Low     1472 non-null   float64\n",
            " 10  Adj. Close   1472 non-null   float64\n",
            " 11  Adj. Volume  1472 non-null   float64\n",
            " 12  Prediction   1442 non-null   float64\n",
            "dtypes: float64(13)\n",
            "memory usage: 161.0 KB\n",
            "None\n"
          ],
          "name": "stdout"
        }
      ]
    },
    {
      "cell_type": "code",
      "metadata": {
        "id": "-Q5LftLjuWkT",
        "colab_type": "code",
        "colab": {
          "base_uri": "https://localhost:8080/",
          "height": 235
        },
        "outputId": "a8082ea9-d1bf-4a22-a10a-3c285f9d961a"
      },
      "source": [
        "##### Creating the independent data set (x) #####\n",
        "\n",
        "#Convert the dataframe to a numpy array.\n",
        "\n",
        "x = np.array(df.drop(['Prediction'],1)) #It will convert our data into array we are going to drop the colum Prediction Colum to use the indpendet variable.\n",
        "\n",
        "#we should remove the last 30 days value in rows that the number of 'n'days that is forecast_out.\n",
        "x = x[:-forecast_out] # X is now numpy array we will get last 30 days out.\n",
        "print(x) #it is the list of list."
      ],
      "execution_count": null,
      "outputs": [
        {
          "output_type": "stream",
          "text": [
            "[[4.2050000e+01 4.5000000e+01 3.8000000e+01 ... 3.8000000e+01\n",
            "  3.8231800e+01 5.7357640e+08]\n",
            " [3.6530000e+01 3.6660000e+01 3.3000000e+01 ... 3.3000000e+01\n",
            "  3.4030000e+01 1.6819270e+08]\n",
            " [3.2610000e+01 3.3590000e+01 3.0940000e+01 ... 3.0940000e+01\n",
            "  3.1000000e+01 1.0178660e+08]\n",
            " ...\n",
            " [1.8101000e+02 1.8184000e+02 1.7148150e+02 ... 1.7148150e+02\n",
            "  1.7154990e+02 3.5672214e+07]\n",
            " [1.7476000e+02 1.7690000e+02 1.6718000e+02 ... 1.6718000e+02\n",
            "  1.7598000e+02 3.7214470e+07]\n",
            " [1.7706000e+02 1.7754500e+02 1.7184000e+02 ... 1.7184000e+02\n",
            "  1.7641000e+02 3.1697374e+07]]\n"
          ],
          "name": "stdout"
        }
      ]
    },
    {
      "cell_type": "code",
      "metadata": {
        "id": "gg3BlcMfztGu",
        "colab_type": "code",
        "colab": {
          "base_uri": "https://localhost:8080/",
          "height": 34
        },
        "outputId": "744f3064-2d1a-4601-9f6c-1a02c558eca2"
      },
      "source": [
        "#### Creating the dependent data set (y) ####\n",
        "\n",
        "#Convert the dataframe to a numpy array (All of the values including the NaN's).\n",
        "y = np.array(df['Prediction']) # we dont need the Adj. Close colume.\n",
        "#we will get all values in the target colum exept the 30 days that last 'n' rows.\n",
        "y = y[:-forecast_out]\n",
        "print(y) # it is the list."
      ],
      "execution_count": null,
      "outputs": [
        {
          "output_type": "stream",
          "text": [
            "[ 30.771  31.2    31.47  ... 159.39  160.06  152.19 ]\n"
          ],
          "name": "stdout"
        }
      ]
    },
    {
      "cell_type": "code",
      "metadata": {
        "id": "HEWQ85kx3bkq",
        "colab_type": "code",
        "colab": {}
      },
      "source": [
        "# Split the data into 80% Traing data and 20% Testing data.\n",
        "\n",
        "x_train, x_test, y_train, y_test = train_test_split(x, y, test_size=0.2) #we can learn this from the sklearn doccumentation which I have Defined in the report.\n"
      ],
      "execution_count": null,
      "outputs": []
    },
    {
      "cell_type": "code",
      "metadata": {
        "id": "POd1kSgI44NP",
        "colab_type": "code",
        "colab": {
          "base_uri": "https://localhost:8080/",
          "height": 50
        },
        "outputId": "cbd70f67-4a53-4822-cee7-e2199666ddbe"
      },
      "source": [
        "# Creat and train the model The Support Vector Machine(Regressor).\n",
        "svr_rbf = SVR(kernel='rbf', C=1e3, gamma=0.1) #kernel is called rbf = radio basis kernel and we are using parameter C and gamma.\n",
        "svr_rbf.fit(x_train, y_train)"
      ],
      "execution_count": null,
      "outputs": [
        {
          "output_type": "execute_result",
          "data": {
            "text/plain": [
              "SVR(C=1000.0, cache_size=200, coef0=0.0, degree=3, epsilon=0.1, gamma=0.1,\n",
              "    kernel='rbf', max_iter=-1, shrinking=True, tol=0.001, verbose=False)"
            ]
          },
          "metadata": {
            "tags": []
          },
          "execution_count": 9
        }
      ]
    },
    {
      "cell_type": "code",
      "metadata": {
        "id": "CtQKyLUi8ISR",
        "colab_type": "code",
        "colab": {
          "base_uri": "https://localhost:8080/",
          "height": 34
        },
        "outputId": "8facbc52-5368-4ba6-c2ed-1593d14cd90f"
      },
      "source": [
        "# Test the model : Score return he coefficient of the determination R^2 of the prediction.\n",
        "# the best possible score is 1.0.\n",
        "svm_confidence = svr_rbf.score(x_test, y_test)\n",
        "print(\"svm confidence: \", svm_confidence)"
      ],
      "execution_count": null,
      "outputs": [
        {
          "output_type": "stream",
          "text": [
            "svm confidence:  -8.170848068589365e-06\n"
          ],
          "name": "stdout"
        }
      ]
    },
    {
      "cell_type": "code",
      "metadata": {
        "id": "KXgDBoRl9y13",
        "colab_type": "code",
        "colab": {
          "base_uri": "https://localhost:8080/",
          "height": 34
        },
        "outputId": "106335d0-43c9-4716-d0cf-39b18616c015"
      },
      "source": [
        "#create and train the Linear Regression model\n",
        "lr = LinearRegression()\n",
        "\n",
        "#We will creat and Train the LinearRegression model using fit\n",
        "lr.fit(x_train, y_train)"
      ],
      "execution_count": null,
      "outputs": [
        {
          "output_type": "execute_result",
          "data": {
            "text/plain": [
              "LinearRegression(copy_X=True, fit_intercept=True, n_jobs=None, normalize=False)"
            ]
          },
          "metadata": {
            "tags": []
          },
          "execution_count": 11
        }
      ]
    },
    {
      "cell_type": "code",
      "metadata": {
        "id": "FeUCxLjU_JUm",
        "colab_type": "code",
        "colab": {
          "base_uri": "https://localhost:8080/",
          "height": 34
        },
        "outputId": "32268e3b-3be7-4586-f163-ece5224a0c65"
      },
      "source": [
        "# Test the model : Score return he coefficient of the determination R^2 of the prediction.\n",
        "# the best possible score is 1.0.\n",
        "lr_confidence = lr.score(x_test, y_test)\n",
        "print(\"lr confidence: \", lr_confidence)"
      ],
      "execution_count": null,
      "outputs": [
        {
          "output_type": "stream",
          "text": [
            "lr confidence:  0.982707082687882\n"
          ],
          "name": "stdout"
        }
      ]
    },
    {
      "cell_type": "code",
      "metadata": {
        "id": "Hgllhf9r_nlk",
        "colab_type": "code",
        "colab": {
          "base_uri": "https://localhost:8080/",
          "height": 1000
        },
        "outputId": "d2b3a09b-7dad-4fca-d75e-c84a87f506ea"
      },
      "source": [
        "# Set x_forecast equal to the 30 rows of the orignal data set from Adj. Close column.\n",
        "x_forecast = np.array(df.drop(['Prediction'],1)) [-forecast_out:] # we are crearing array for it and drop the prediction colum and we want last 30 rows from the all the columns in data set.\n",
        "print(x_forecast)"
      ],
      "execution_count": null,
      "outputs": [
        {
          "output_type": "stream",
          "text": [
            "[[1.75620000e+02 1.75970000e+02 1.73100000e+02 1.73150000e+02\n",
            "  2.08807020e+07 0.00000000e+00 1.00000000e+00 1.75620000e+02\n",
            "  1.75970000e+02 1.73100000e+02 1.73150000e+02 2.08807020e+07]\n",
            " [1.73450000e+02 1.79810000e+02 1.73211900e+02 1.79520000e+02\n",
            "  2.79637580e+07 0.00000000e+00 1.00000000e+00 1.73450000e+02\n",
            "  1.79810000e+02 1.73211900e+02 1.79520000e+02 2.79637580e+07]\n",
            " [1.80500000e+02 1.80500000e+02 1.76840000e+02 1.79960000e+02\n",
            "  2.05540920e+07 0.00000000e+00 1.00000000e+00 1.80500000e+02\n",
            "  1.80500000e+02 1.76840000e+02 1.79960000e+02 2.05540920e+07]\n",
            " [1.78990000e+02 1.79880000e+02 1.76300000e+02 1.77360000e+02\n",
            "  2.04754450e+07 0.00000000e+00 1.00000000e+00 1.78990000e+02\n",
            "  1.79880000e+02 1.76300000e+02 1.77360000e+02 2.04754450e+07]\n",
            " [1.75770000e+02 1.77950000e+02 1.75110000e+02 1.76010000e+02\n",
            "  2.08873170e+07 0.00000000e+00 1.00000000e+00 1.75770000e+02\n",
            "  1.77950000e+02 1.75110000e+02 1.76010000e+02 2.08873170e+07]\n",
            " [1.76710000e+02 1.81270000e+02 1.76400000e+02 1.77910000e+02\n",
            "  2.28440060e+07 0.00000000e+00 1.00000000e+00 1.76710000e+02\n",
            "  1.81270000e+02 1.76400000e+02 1.77910000e+02 2.28440060e+07]\n",
            " [1.78700000e+02 1.80210000e+02 1.77410000e+02 1.78990000e+02\n",
            "  1.70854900e+07 0.00000000e+00 1.00000000e+00 1.78700000e+02\n",
            "  1.80210000e+02 1.77410000e+02 1.78990000e+02 1.70854900e+07]\n",
            " [1.79900000e+02 1.83390000e+02 1.79510000e+02 1.83290000e+02\n",
            "  1.86219500e+07 0.00000000e+00 1.00000000e+00 1.79900000e+02\n",
            "  1.83390000e+02 1.79510000e+02 1.83290000e+02 1.86219500e+07]\n",
            " [1.84580000e+02 1.85660000e+02 1.83222800e+02 1.84930000e+02\n",
            "  1.74188140e+07 0.00000000e+00 1.00000000e+00 1.84580000e+02\n",
            "  1.85660000e+02 1.83222800e+02 1.84930000e+02 1.74188140e+07]\n",
            " [1.84450000e+02 1.84700000e+02 1.81460000e+02 1.81460000e+02\n",
            "  1.56493260e+07 0.00000000e+00 1.00000000e+00 1.84450000e+02\n",
            "  1.84700000e+02 1.81460000e+02 1.81460000e+02 1.56493260e+07]\n",
            " [1.82300000e+02 1.82880000e+02 1.78140000e+02 1.78320000e+02\n",
            "  1.82080840e+07 0.00000000e+00 1.00000000e+00 1.82300000e+02\n",
            "  1.82880000e+02 1.78140000e+02 1.78320000e+02 1.82080840e+07]\n",
            " [1.79010000e+02 1.80120000e+02 1.74410000e+02 1.75940000e+02\n",
            "  2.32016260e+07 0.00000000e+00 1.00000000e+00 1.79010000e+02\n",
            "  1.80120000e+02 1.74410000e+02 1.75940000e+02 2.32016260e+07]\n",
            " [1.73290000e+02 1.77110000e+02 1.72990000e+02 1.76620000e+02\n",
            "  2.00259050e+07 0.00000000e+00 1.00000000e+00 1.73290000e+02\n",
            "  1.77110000e+02 1.72990000e+02 1.76620000e+02 2.00259050e+07]\n",
            " [1.76200000e+02 1.81147500e+02 1.75890000e+02 1.80400000e+02\n",
            "  1.61892800e+07 0.00000000e+00 1.00000000e+00 1.76200000e+02\n",
            "  1.81147500e+02 1.75890000e+02 1.80400000e+02 1.61892800e+07]\n",
            " [1.81780000e+02 1.82380000e+02 1.79110000e+02 1.79780000e+02\n",
            "  1.50867840e+07 0.00000000e+00 1.00000000e+00 1.81780000e+02\n",
            "  1.82380000e+02 1.79110000e+02 1.79780000e+02 1.50867840e+07]\n",
            " [1.78740000e+02 1.83820000e+02 1.78070000e+02 1.83710000e+02\n",
            "  1.90972930e+07 0.00000000e+00 1.00000000e+00 1.78740000e+02\n",
            "  1.83820000e+02 1.78070000e+02 1.83710000e+02 1.90972930e+07]\n",
            " [1.83560000e+02 1.84400000e+02 1.81450000e+02 1.82340000e+02\n",
            "  1.53365550e+07 0.00000000e+00 1.00000000e+00 1.83560000e+02\n",
            "  1.84400000e+02 1.81450000e+02 1.82340000e+02 1.53365550e+07]\n",
            " [1.83910000e+02 1.85510000e+02 1.83210000e+02 1.85230000e+02\n",
            "  1.79521770e+07 0.00000000e+00 1.00000000e+00 1.83910000e+02\n",
            "  1.85510000e+02 1.83210000e+02 1.85230000e+02 1.79521770e+07]\n",
            " [1.85230000e+02 1.86100000e+02 1.84220000e+02 1.84760000e+02\n",
            "  1.48735380e+07 0.00000000e+00 1.00000000e+00 1.85230000e+02\n",
            "  1.86100000e+02 1.84220000e+02 1.84760000e+02 1.48735380e+07]\n",
            " [1.85610000e+02 1.85990000e+02 1.81110000e+02 1.81880000e+02\n",
            "  1.77423120e+07 0.00000000e+00 1.00000000e+00 1.85610000e+02\n",
            "  1.85990000e+02 1.81110000e+02 1.81880000e+02 1.77423120e+07]\n",
            " [1.82600000e+02 1.84250000e+02 1.81850000e+02 1.84190000e+02\n",
            "  1.64268430e+07 0.00000000e+00 1.00000000e+00 1.82600000e+02\n",
            "  1.84250000e+02 1.81850000e+02 1.84190000e+02 1.64268430e+07]\n",
            " [1.83240000e+02 1.84000000e+02 1.82190000e+02 1.83860000e+02\n",
            "  1.54618690e+07 0.00000000e+00 1.00000000e+00 1.83240000e+02\n",
            "  1.84000000e+02 1.82190000e+02 1.83860000e+02 1.54618690e+07]\n",
            " [1.84490000e+02 1.85330000e+02 1.83410000e+02 1.85090000e+02\n",
            "  2.30904800e+07 0.00000000e+00 1.00000000e+00 1.84490000e+02\n",
            "  1.85330000e+02 1.83410000e+02 1.85090000e+02 2.30904800e+07]\n",
            " [1.77010000e+02 1.77170000e+02 1.70060000e+02 1.72560000e+02\n",
            "  8.68977490e+07 0.00000000e+00 1.00000000e+00 1.77010000e+02\n",
            "  1.77170000e+02 1.70060000e+02 1.72560000e+02 8.68977490e+07]\n",
            " [1.67470000e+02 1.70200000e+02 1.61950000e+02 1.68150000e+02\n",
            "  1.28925534e+08 0.00000000e+00 1.00000000e+00 1.67470000e+02\n",
            "  1.70200000e+02 1.61950000e+02 1.68150000e+02 1.28925534e+08]\n",
            " [1.64800000e+02 1.73400000e+02 1.63300000e+02 1.69390000e+02\n",
            "  1.05350867e+08 0.00000000e+00 1.00000000e+00 1.64800000e+02\n",
            "  1.73400000e+02 1.63300000e+02 1.69390000e+02 1.05350867e+08]\n",
            " [1.66130000e+02 1.70270000e+02 1.63720000e+02 1.64890000e+02\n",
            "  7.33899880e+07 0.00000000e+00 1.00000000e+00 1.66130000e+02\n",
            "  1.70270000e+02 1.63720000e+02 1.64890000e+02 7.33899880e+07]\n",
            " [1.65440000e+02 1.67100000e+02 1.59020000e+02 1.59390000e+02\n",
            "  5.23068910e+07 0.00000000e+00 1.00000000e+00 1.65440000e+02\n",
            "  1.67100000e+02 1.59020000e+02 1.59390000e+02 5.23068910e+07]\n",
            " [1.60820000e+02 1.61100000e+02 1.49020000e+02 1.60060000e+02\n",
            "  1.25438294e+08 0.00000000e+00 1.00000000e+00 1.60820000e+02\n",
            "  1.61100000e+02 1.49020000e+02 1.60060000e+02 1.25438294e+08]\n",
            " [1.56310000e+02 1.62850000e+02 1.50750000e+02 1.52190000e+02\n",
            "  7.67878840e+07 0.00000000e+00 1.00000000e+00 1.56310000e+02\n",
            "  1.62850000e+02 1.50750000e+02 1.52190000e+02 7.67878840e+07]]\n"
          ],
          "name": "stdout"
        }
      ]
    },
    {
      "cell_type": "code",
      "metadata": {
        "id": "7iHa5-ZOBOF8",
        "colab_type": "code",
        "colab": {
          "base_uri": "https://localhost:8080/",
          "height": 118
        },
        "outputId": "b0c01afd-d37c-4877-aeb2-ec2b0aeb319e"
      },
      "source": [
        "# we will now print the prediction for LinearRegression model for the next 'n' days in now we are doing it for 30 days.\n",
        "lr_prediction = lr.predict(x_forecast)\n",
        "print(lr_prediction)"
      ],
      "execution_count": null,
      "outputs": [
        {
          "output_type": "stream",
          "text": [
            "[177.76520031 182.12555188 184.05133313 181.74273938 180.28766125\n",
            " 181.74859875 183.23590344 186.88336438 189.31012219 186.19684094\n",
            " 182.88434094 180.1040675  180.09332531 183.56207531 184.30426281\n",
            " 186.66754406 186.846255   189.49762219 189.4165675  186.39313\n",
            " 188.35602063 188.28082531 189.55133313 176.80523938 171.39117688\n",
            " 171.82867688 168.79352063 163.50055188 162.26617688 155.35602063]\n"
          ],
          "name": "stdout"
        }
      ]
    },
    {
      "cell_type": "code",
      "metadata": {
        "id": "OVfVpDXOB_Nw",
        "colab_type": "code",
        "colab": {
          "base_uri": "https://localhost:8080/",
          "height": 101
        },
        "outputId": "f7461278-486b-48b1-eccb-7f93e67fe654"
      },
      "source": [
        "# we will now print the prediction for Support Vector regressor model for the next 'n' days in now we are doing it for 30 days.\n",
        "svr_prediction = svr_rbf.predict(x_forecast)\n",
        "print(svr_prediction)"
      ],
      "execution_count": null,
      "outputs": [
        {
          "output_type": "stream",
          "text": [
            "[90.75028516 90.75028516 90.75028516 90.75028516 90.75028516 90.75028516\n",
            " 90.75028516 90.75028516 90.75028516 90.75028516 90.75028516 90.75028516\n",
            " 90.75028516 90.75028516 90.75028516 90.75028516 90.75028516 90.75028516\n",
            " 90.75028516 90.75028516 90.75028516 90.75028516 90.75028516 90.75028516\n",
            " 90.75028516 90.75028516 90.75028516 90.75028516 90.75028516 90.75028516]\n"
          ],
          "name": "stdout"
        }
      ]
    }
  ]
}